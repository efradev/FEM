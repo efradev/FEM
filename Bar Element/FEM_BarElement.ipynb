{
 "cells": [
  {
   "cell_type": "markdown",
   "metadata": {},
   "source": [
    "# MÉTODO DE LOS ELEMENTOS FINITOS EN ELEMENTOS BARRA\n",
    "\n",
    "Elaborado por: Efrain Rodriguez Infantes\n"
   ]
  },
  {
   "cell_type": "markdown",
   "metadata": {},
   "source": [
    "La aplicación de este ejemplo se hará a una armadura hiperestática con la siguiente configuración:\n",
    "\n",
    "<img src=\"Ejemplo2.png\">\n",
    "\n",
    "$E = 2\\cdot 10^{11} N/m^2$,\n",
    "$A = 0.005 m^2$\n",
    "\n",
    "Fuente de imagen: Dr. Seán Carroll"
   ]
  },
  {
   "cell_type": "code",
   "execution_count": 172,
   "metadata": {},
   "outputs": [],
   "source": [
    "#----------------- CARGA DE LAS LIBRERÍAS A USAR ---------------#\n",
    "import numpy as np\n",
    "import plotly.graph_objects as go\n",
    "import math\n"
   ]
  },
  {
   "cell_type": "markdown",
   "metadata": {},
   "source": [
    "## 1. PRE-PROCESAMIENTO"
   ]
  },
  {
   "cell_type": "markdown",
   "metadata": {},
   "source": [
    "### 1.1. INGRESO DE DATOS"
   ]
  },
  {
   "cell_type": "code",
   "execution_count": 173,
   "metadata": {},
   "outputs": [],
   "source": [
    "#----------------- PROPIEDADES DE LOS MATERIALES ---------------#\n",
    "\n",
    "E = 2*10**11 #N/m2\n",
    "A = 0.005 #m2\n",
    "\n",
    "#----------------- DEFINICIÓN DE LOS NUDOS ---------------#\n",
    "\n",
    "\n",
    "nodos = np.array([[0,0],\n",
    "                  [9.804,18],\n",
    "                  [20,18],\n",
    "                  [30.195,18],\n",
    "                  [40,18],\n",
    "                  [50.715,18],\n",
    "                  [62.939,18],\n",
    "                  [76.204,18],\n",
    "                  [90,18],\n",
    "                  [103.79,18],\n",
    "                  [117.06,18],\n",
    "                  [129.28,18],\n",
    "                  [140,18],\n",
    "                  [149.8,18],\n",
    "                  [160,18],\n",
    "                  [170.19,18],\n",
    "                  [180,0],\n",
    "                  [170.16,5.194],\n",
    "                  [160,6.948],\n",
    "                  [149.8,5.194],\n",
    "                  [140,0],\n",
    "                  [129.28,4.939],\n",
    "                  [117.06,8.61],\n",
    "                  [103.79,10.87],\n",
    "                  [90,11.633],\n",
    "                  [76.204,10.87],\n",
    "                  [62.939,8.61],\n",
    "                  [50.715,4.939],\n",
    "                  [40,0],\n",
    "                  [30.195,5.194],\n",
    "                  [20,6.948],\n",
    "                  [9.804,5.194]])\n",
    "            \n",
    "    \n",
    "#----------------- DEFINICIÓN DE LAS BARRAS ---------------#\n",
    "\n",
    "\n",
    "barras = np.array([\n",
    "                   #Barras del perímetro\n",
    "                   [1,2],\n",
    "                   [2,3],\n",
    "                   [3,4],\n",
    "                   [4,5],\n",
    "                   [5,6],\n",
    "                   [6,7],\n",
    "                   [7,8],\n",
    "                   [8,9],\n",
    "                   [9,10],\n",
    "                   [10,11],\n",
    "                   [11,12],\n",
    "                   [12,13],\n",
    "                   [13,14],\n",
    "                   [14,15],\n",
    "                   [15,16],\n",
    "                   [16,17],\n",
    "                   [17,18],\n",
    "                   [18,19],\n",
    "                   [19,20],\n",
    "                   [20,21],\n",
    "                   [21,22],\n",
    "                   [22,23],\n",
    "                   [23,24],\n",
    "                   [24,25],\n",
    "                   [25,26],\n",
    "                   [26,27],\n",
    "                   [27,28],\n",
    "                   [28,29],\n",
    "                   [29,30],\n",
    "                   [30,31],\n",
    "                   [31,32],\n",
    "                   [32,1],\n",
    "                   #Barras verticales\n",
    "                   [2,32],\n",
    "                   [3,31],\n",
    "                   [4,30],\n",
    "                   [5,29],\n",
    "                   [6,28],\n",
    "                   [7,27],\n",
    "                   [8,26],\n",
    "                   [9,25],\n",
    "                   [10,24],\n",
    "                   [11,23],\n",
    "                   [12,22],\n",
    "                   [13,21],\n",
    "                   [14,20],\n",
    "                   [15,19],\n",
    "                   [16,18],\n",
    "                   #Barras diagonales\n",
    "                   [3,32],\n",
    "                   [3,30],\n",
    "                   [4,29],\n",
    "                   [6,29],\n",
    "                   [7,28],\n",
    "                   [8,27],\n",
    "                   [9,26],\n",
    "                   [9,24],\n",
    "                   [10,23],\n",
    "                   [11,22],\n",
    "                   [12,21],\n",
    "                   [14,21],\n",
    "                   [15,20],\n",
    "                   [15,18],\n",
    "                   ])\n",
    "\n",
    "#----------------- CONDICIONES DE CONTORNO (APOYOS) ---------------#\n",
    "\n",
    "\n",
    "restricciones = [1,2,33,34,41,42,57,58]\n",
    "\n",
    "\n",
    "#----------------- CARGAS ---------------#\n",
    "\n",
    "gdl=2*len(nodos) # Número de grados de libertad (2 por nudo)\n",
    "\n",
    "fuerzas = np.array([np.zeros(gdl)]).T #Creación del vector de fuerzas, un vector columna.\n",
    "                                        #Si bien es cierto, las fuerzas en los apoyos serán diferentes de cero\n",
    "                                        #a estas alturas no significará un gran cambio en los resultados, pues posteriormente\n",
    "                                        #se calcularán las fuerzas de los apoyos\n",
    "\n",
    "# Ingreso de fuerzas (las matrices en python se empiezan a contar desde 0),\n",
    "# por lo que si se quiere ingresar una fuerza en el grado de libertad 4,\n",
    "# en el vector de fuerzas se hará en el índice 3, que es la cuarta posición del vector\n",
    "\n",
    "\n",
    "fuerzas[11] = -200000\n",
    "fuerzas[13] = -200000\n",
    "fuerzas[15] = -200000\n",
    "fuerzas[17] = -200000\n",
    "fuerzas[19] = -200000\n",
    "fuerzas[21] = -200000\n",
    "fuerzas[23] = -200000\n",
    "\n",
    "\n"
   ]
  },
  {
   "cell_type": "markdown",
   "metadata": {},
   "source": [
    "### 1.2. PLOTEO DE ESTRUCTURA PARA CONFIRMAR EL CORRECTO INGRESO DE DATOS"
   ]
  },
  {
   "cell_type": "code",
   "execution_count": 174,
   "metadata": {},
   "outputs": [
    {
     "data": {
      "application/vnd.plotly.v1+json": {
       "config": {
        "plotlyServerURL": "https://plot.ly"
       },
       "data": [
        {
         "mode": "lines+markers",
         "name": "barra 1",
         "type": "scatter",
         "x": [
          0,
          9.804
         ],
         "y": [
          0,
          18
         ]
        },
        {
         "mode": "lines+markers",
         "name": "barra 2",
         "type": "scatter",
         "x": [
          9.804,
          20
         ],
         "y": [
          18,
          18
         ]
        },
        {
         "mode": "lines+markers",
         "name": "barra 3",
         "type": "scatter",
         "x": [
          20,
          30.195
         ],
         "y": [
          18,
          18
         ]
        },
        {
         "mode": "lines+markers",
         "name": "barra 4",
         "type": "scatter",
         "x": [
          30.195,
          40
         ],
         "y": [
          18,
          18
         ]
        },
        {
         "mode": "lines+markers",
         "name": "barra 5",
         "type": "scatter",
         "x": [
          40,
          50.715
         ],
         "y": [
          18,
          18
         ]
        },
        {
         "mode": "lines+markers",
         "name": "barra 6",
         "type": "scatter",
         "x": [
          50.715,
          62.939
         ],
         "y": [
          18,
          18
         ]
        },
        {
         "mode": "lines+markers",
         "name": "barra 7",
         "type": "scatter",
         "x": [
          62.939,
          76.204
         ],
         "y": [
          18,
          18
         ]
        },
        {
         "mode": "lines+markers",
         "name": "barra 8",
         "type": "scatter",
         "x": [
          76.204,
          90
         ],
         "y": [
          18,
          18
         ]
        },
        {
         "mode": "lines+markers",
         "name": "barra 9",
         "type": "scatter",
         "x": [
          90,
          103.79
         ],
         "y": [
          18,
          18
         ]
        },
        {
         "mode": "lines+markers",
         "name": "barra 10",
         "type": "scatter",
         "x": [
          103.79,
          117.06
         ],
         "y": [
          18,
          18
         ]
        },
        {
         "mode": "lines+markers",
         "name": "barra 11",
         "type": "scatter",
         "x": [
          117.06,
          129.28
         ],
         "y": [
          18,
          18
         ]
        },
        {
         "mode": "lines+markers",
         "name": "barra 12",
         "type": "scatter",
         "x": [
          129.28,
          140
         ],
         "y": [
          18,
          18
         ]
        },
        {
         "mode": "lines+markers",
         "name": "barra 13",
         "type": "scatter",
         "x": [
          140,
          149.8
         ],
         "y": [
          18,
          18
         ]
        },
        {
         "mode": "lines+markers",
         "name": "barra 14",
         "type": "scatter",
         "x": [
          149.8,
          160
         ],
         "y": [
          18,
          18
         ]
        },
        {
         "mode": "lines+markers",
         "name": "barra 15",
         "type": "scatter",
         "x": [
          160,
          170.19
         ],
         "y": [
          18,
          18
         ]
        },
        {
         "mode": "lines+markers",
         "name": "barra 16",
         "type": "scatter",
         "x": [
          170.19,
          180
         ],
         "y": [
          18,
          0
         ]
        },
        {
         "mode": "lines+markers",
         "name": "barra 17",
         "type": "scatter",
         "x": [
          180,
          170.16
         ],
         "y": [
          0,
          5.194
         ]
        },
        {
         "mode": "lines+markers",
         "name": "barra 18",
         "type": "scatter",
         "x": [
          170.16,
          160
         ],
         "y": [
          5.194,
          6.948
         ]
        },
        {
         "mode": "lines+markers",
         "name": "barra 19",
         "type": "scatter",
         "x": [
          160,
          149.8
         ],
         "y": [
          6.948,
          5.194
         ]
        },
        {
         "mode": "lines+markers",
         "name": "barra 20",
         "type": "scatter",
         "x": [
          149.8,
          140
         ],
         "y": [
          5.194,
          0
         ]
        },
        {
         "mode": "lines+markers",
         "name": "barra 21",
         "type": "scatter",
         "x": [
          140,
          129.28
         ],
         "y": [
          0,
          4.939
         ]
        },
        {
         "mode": "lines+markers",
         "name": "barra 22",
         "type": "scatter",
         "x": [
          129.28,
          117.06
         ],
         "y": [
          4.939,
          8.61
         ]
        },
        {
         "mode": "lines+markers",
         "name": "barra 23",
         "type": "scatter",
         "x": [
          117.06,
          103.79
         ],
         "y": [
          8.61,
          10.87
         ]
        },
        {
         "mode": "lines+markers",
         "name": "barra 24",
         "type": "scatter",
         "x": [
          103.79,
          90
         ],
         "y": [
          10.87,
          11.633
         ]
        },
        {
         "mode": "lines+markers",
         "name": "barra 25",
         "type": "scatter",
         "x": [
          90,
          76.204
         ],
         "y": [
          11.633,
          10.87
         ]
        },
        {
         "mode": "lines+markers",
         "name": "barra 26",
         "type": "scatter",
         "x": [
          76.204,
          62.939
         ],
         "y": [
          10.87,
          8.61
         ]
        },
        {
         "mode": "lines+markers",
         "name": "barra 27",
         "type": "scatter",
         "x": [
          62.939,
          50.715
         ],
         "y": [
          8.61,
          4.939
         ]
        },
        {
         "mode": "lines+markers",
         "name": "barra 28",
         "type": "scatter",
         "x": [
          50.715,
          40
         ],
         "y": [
          4.939,
          0
         ]
        },
        {
         "mode": "lines+markers",
         "name": "barra 29",
         "type": "scatter",
         "x": [
          40,
          30.195
         ],
         "y": [
          0,
          5.194
         ]
        },
        {
         "mode": "lines+markers",
         "name": "barra 30",
         "type": "scatter",
         "x": [
          30.195,
          20
         ],
         "y": [
          5.194,
          6.948
         ]
        },
        {
         "mode": "lines+markers",
         "name": "barra 31",
         "type": "scatter",
         "x": [
          20,
          9.804
         ],
         "y": [
          6.948,
          5.194
         ]
        },
        {
         "mode": "lines+markers",
         "name": "barra 32",
         "type": "scatter",
         "x": [
          9.804,
          0
         ],
         "y": [
          5.194,
          0
         ]
        },
        {
         "mode": "lines+markers",
         "name": "barra 33",
         "type": "scatter",
         "x": [
          9.804,
          9.804
         ],
         "y": [
          18,
          5.194
         ]
        },
        {
         "mode": "lines+markers",
         "name": "barra 34",
         "type": "scatter",
         "x": [
          20,
          20
         ],
         "y": [
          18,
          6.948
         ]
        },
        {
         "mode": "lines+markers",
         "name": "barra 35",
         "type": "scatter",
         "x": [
          30.195,
          30.195
         ],
         "y": [
          18,
          5.194
         ]
        },
        {
         "mode": "lines+markers",
         "name": "barra 36",
         "type": "scatter",
         "x": [
          40,
          40
         ],
         "y": [
          18,
          0
         ]
        },
        {
         "mode": "lines+markers",
         "name": "barra 37",
         "type": "scatter",
         "x": [
          50.715,
          50.715
         ],
         "y": [
          18,
          4.939
         ]
        },
        {
         "mode": "lines+markers",
         "name": "barra 38",
         "type": "scatter",
         "x": [
          62.939,
          62.939
         ],
         "y": [
          18,
          8.61
         ]
        },
        {
         "mode": "lines+markers",
         "name": "barra 39",
         "type": "scatter",
         "x": [
          76.204,
          76.204
         ],
         "y": [
          18,
          10.87
         ]
        },
        {
         "mode": "lines+markers",
         "name": "barra 40",
         "type": "scatter",
         "x": [
          90,
          90
         ],
         "y": [
          18,
          11.633
         ]
        },
        {
         "mode": "lines+markers",
         "name": "barra 41",
         "type": "scatter",
         "x": [
          103.79,
          103.79
         ],
         "y": [
          18,
          10.87
         ]
        },
        {
         "mode": "lines+markers",
         "name": "barra 42",
         "type": "scatter",
         "x": [
          117.06,
          117.06
         ],
         "y": [
          18,
          8.61
         ]
        },
        {
         "mode": "lines+markers",
         "name": "barra 43",
         "type": "scatter",
         "x": [
          129.28,
          129.28
         ],
         "y": [
          18,
          4.939
         ]
        },
        {
         "mode": "lines+markers",
         "name": "barra 44",
         "type": "scatter",
         "x": [
          140,
          140
         ],
         "y": [
          18,
          0
         ]
        },
        {
         "mode": "lines+markers",
         "name": "barra 45",
         "type": "scatter",
         "x": [
          149.8,
          149.8
         ],
         "y": [
          18,
          5.194
         ]
        },
        {
         "mode": "lines+markers",
         "name": "barra 46",
         "type": "scatter",
         "x": [
          160,
          160
         ],
         "y": [
          18,
          6.948
         ]
        },
        {
         "mode": "lines+markers",
         "name": "barra 47",
         "type": "scatter",
         "x": [
          170.19,
          170.16
         ],
         "y": [
          18,
          5.194
         ]
        },
        {
         "mode": "lines+markers",
         "name": "barra 48",
         "type": "scatter",
         "x": [
          20,
          9.804
         ],
         "y": [
          18,
          5.194
         ]
        },
        {
         "mode": "lines+markers",
         "name": "barra 49",
         "type": "scatter",
         "x": [
          20,
          30.195
         ],
         "y": [
          18,
          5.194
         ]
        },
        {
         "mode": "lines+markers",
         "name": "barra 50",
         "type": "scatter",
         "x": [
          30.195,
          40
         ],
         "y": [
          18,
          0
         ]
        },
        {
         "mode": "lines+markers",
         "name": "barra 51",
         "type": "scatter",
         "x": [
          50.715,
          40
         ],
         "y": [
          18,
          0
         ]
        },
        {
         "mode": "lines+markers",
         "name": "barra 52",
         "type": "scatter",
         "x": [
          62.939,
          50.715
         ],
         "y": [
          18,
          4.939
         ]
        },
        {
         "mode": "lines+markers",
         "name": "barra 53",
         "type": "scatter",
         "x": [
          76.204,
          62.939
         ],
         "y": [
          18,
          8.61
         ]
        },
        {
         "mode": "lines+markers",
         "name": "barra 54",
         "type": "scatter",
         "x": [
          90,
          76.204
         ],
         "y": [
          18,
          10.87
         ]
        },
        {
         "mode": "lines+markers",
         "name": "barra 55",
         "type": "scatter",
         "x": [
          90,
          103.79
         ],
         "y": [
          18,
          10.87
         ]
        },
        {
         "mode": "lines+markers",
         "name": "barra 56",
         "type": "scatter",
         "x": [
          103.79,
          117.06
         ],
         "y": [
          18,
          8.61
         ]
        },
        {
         "mode": "lines+markers",
         "name": "barra 57",
         "type": "scatter",
         "x": [
          117.06,
          129.28
         ],
         "y": [
          18,
          4.939
         ]
        },
        {
         "mode": "lines+markers",
         "name": "barra 58",
         "type": "scatter",
         "x": [
          129.28,
          140
         ],
         "y": [
          18,
          0
         ]
        },
        {
         "mode": "lines+markers",
         "name": "barra 59",
         "type": "scatter",
         "x": [
          149.8,
          140
         ],
         "y": [
          18,
          0
         ]
        },
        {
         "mode": "lines+markers",
         "name": "barra 60",
         "type": "scatter",
         "x": [
          160,
          149.8
         ],
         "y": [
          18,
          5.194
         ]
        },
        {
         "mode": "lines+markers",
         "name": "barra 61",
         "type": "scatter",
         "x": [
          160,
          170.16
         ],
         "y": [
          18,
          5.194
         ]
        }
       ],
       "layout": {
        "annotations": [
         {
          "align": "center",
          "arrowcolor": "#000000",
          "arrowhead": 2,
          "arrowsize": 1,
          "arrowwidth": 2,
          "ax": 0,
          "ay": -59.99999999999999,
          "font": {
           "color": "#000000",
           "family": "Courier New, monospace",
           "size": 12
          },
          "opacity": 0.7,
          "showarrow": true,
          "text": "-200.0 kN",
          "x": 50.715,
          "xref": "x",
          "y": 18,
          "yref": "y"
         },
         {
          "align": "center",
          "arrowcolor": "#000000",
          "arrowhead": 2,
          "arrowsize": 1,
          "arrowwidth": 2,
          "ax": 0,
          "ay": -59.99999999999999,
          "font": {
           "color": "#000000",
           "family": "Courier New, monospace",
           "size": 12
          },
          "opacity": 0.7,
          "showarrow": true,
          "text": "-200.0 kN",
          "x": 62.939,
          "xref": "x",
          "y": 18,
          "yref": "y"
         },
         {
          "align": "center",
          "arrowcolor": "#000000",
          "arrowhead": 2,
          "arrowsize": 1,
          "arrowwidth": 2,
          "ax": 0,
          "ay": -59.99999999999999,
          "font": {
           "color": "#000000",
           "family": "Courier New, monospace",
           "size": 12
          },
          "opacity": 0.7,
          "showarrow": true,
          "text": "-200.0 kN",
          "x": 76.204,
          "xref": "x",
          "y": 18,
          "yref": "y"
         },
         {
          "align": "center",
          "arrowcolor": "#000000",
          "arrowhead": 2,
          "arrowsize": 1,
          "arrowwidth": 2,
          "ax": 0,
          "ay": -59.99999999999999,
          "font": {
           "color": "#000000",
           "family": "Courier New, monospace",
           "size": 12
          },
          "opacity": 0.7,
          "showarrow": true,
          "text": "-200.0 kN",
          "x": 90,
          "xref": "x",
          "y": 18,
          "yref": "y"
         },
         {
          "align": "center",
          "arrowcolor": "#000000",
          "arrowhead": 2,
          "arrowsize": 1,
          "arrowwidth": 2,
          "ax": 0,
          "ay": -59.99999999999999,
          "font": {
           "color": "#000000",
           "family": "Courier New, monospace",
           "size": 12
          },
          "opacity": 0.7,
          "showarrow": true,
          "text": "-200.0 kN",
          "x": 103.79,
          "xref": "x",
          "y": 18,
          "yref": "y"
         },
         {
          "align": "center",
          "arrowcolor": "#000000",
          "arrowhead": 2,
          "arrowsize": 1,
          "arrowwidth": 2,
          "ax": 0,
          "ay": -59.99999999999999,
          "font": {
           "color": "#000000",
           "family": "Courier New, monospace",
           "size": 12
          },
          "opacity": 0.7,
          "showarrow": true,
          "text": "-200.0 kN",
          "x": 117.06,
          "xref": "x",
          "y": 18,
          "yref": "y"
         },
         {
          "align": "center",
          "arrowcolor": "#000000",
          "arrowhead": 2,
          "arrowsize": 1,
          "arrowwidth": 2,
          "ax": 0,
          "ay": -59.99999999999999,
          "font": {
           "color": "#000000",
           "family": "Courier New, monospace",
           "size": 12
          },
          "opacity": 0.7,
          "showarrow": true,
          "text": "-200.0 kN",
          "x": 129.28,
          "xref": "x",
          "y": 18,
          "yref": "y"
         }
        ],
        "template": {
         "data": {
          "bar": [
           {
            "error_x": {
             "color": "#2a3f5f"
            },
            "error_y": {
             "color": "#2a3f5f"
            },
            "marker": {
             "line": {
              "color": "#E5ECF6",
              "width": 0.5
             },
             "pattern": {
              "fillmode": "overlay",
              "size": 10,
              "solidity": 0.2
             }
            },
            "type": "bar"
           }
          ],
          "barpolar": [
           {
            "marker": {
             "line": {
              "color": "#E5ECF6",
              "width": 0.5
             },
             "pattern": {
              "fillmode": "overlay",
              "size": 10,
              "solidity": 0.2
             }
            },
            "type": "barpolar"
           }
          ],
          "carpet": [
           {
            "aaxis": {
             "endlinecolor": "#2a3f5f",
             "gridcolor": "white",
             "linecolor": "white",
             "minorgridcolor": "white",
             "startlinecolor": "#2a3f5f"
            },
            "baxis": {
             "endlinecolor": "#2a3f5f",
             "gridcolor": "white",
             "linecolor": "white",
             "minorgridcolor": "white",
             "startlinecolor": "#2a3f5f"
            },
            "type": "carpet"
           }
          ],
          "choropleth": [
           {
            "colorbar": {
             "outlinewidth": 0,
             "ticks": ""
            },
            "type": "choropleth"
           }
          ],
          "contour": [
           {
            "colorbar": {
             "outlinewidth": 0,
             "ticks": ""
            },
            "colorscale": [
             [
              0,
              "#0d0887"
             ],
             [
              0.1111111111111111,
              "#46039f"
             ],
             [
              0.2222222222222222,
              "#7201a8"
             ],
             [
              0.3333333333333333,
              "#9c179e"
             ],
             [
              0.4444444444444444,
              "#bd3786"
             ],
             [
              0.5555555555555556,
              "#d8576b"
             ],
             [
              0.6666666666666666,
              "#ed7953"
             ],
             [
              0.7777777777777778,
              "#fb9f3a"
             ],
             [
              0.8888888888888888,
              "#fdca26"
             ],
             [
              1,
              "#f0f921"
             ]
            ],
            "type": "contour"
           }
          ],
          "contourcarpet": [
           {
            "colorbar": {
             "outlinewidth": 0,
             "ticks": ""
            },
            "type": "contourcarpet"
           }
          ],
          "heatmap": [
           {
            "colorbar": {
             "outlinewidth": 0,
             "ticks": ""
            },
            "colorscale": [
             [
              0,
              "#0d0887"
             ],
             [
              0.1111111111111111,
              "#46039f"
             ],
             [
              0.2222222222222222,
              "#7201a8"
             ],
             [
              0.3333333333333333,
              "#9c179e"
             ],
             [
              0.4444444444444444,
              "#bd3786"
             ],
             [
              0.5555555555555556,
              "#d8576b"
             ],
             [
              0.6666666666666666,
              "#ed7953"
             ],
             [
              0.7777777777777778,
              "#fb9f3a"
             ],
             [
              0.8888888888888888,
              "#fdca26"
             ],
             [
              1,
              "#f0f921"
             ]
            ],
            "type": "heatmap"
           }
          ],
          "heatmapgl": [
           {
            "colorbar": {
             "outlinewidth": 0,
             "ticks": ""
            },
            "colorscale": [
             [
              0,
              "#0d0887"
             ],
             [
              0.1111111111111111,
              "#46039f"
             ],
             [
              0.2222222222222222,
              "#7201a8"
             ],
             [
              0.3333333333333333,
              "#9c179e"
             ],
             [
              0.4444444444444444,
              "#bd3786"
             ],
             [
              0.5555555555555556,
              "#d8576b"
             ],
             [
              0.6666666666666666,
              "#ed7953"
             ],
             [
              0.7777777777777778,
              "#fb9f3a"
             ],
             [
              0.8888888888888888,
              "#fdca26"
             ],
             [
              1,
              "#f0f921"
             ]
            ],
            "type": "heatmapgl"
           }
          ],
          "histogram": [
           {
            "marker": {
             "pattern": {
              "fillmode": "overlay",
              "size": 10,
              "solidity": 0.2
             }
            },
            "type": "histogram"
           }
          ],
          "histogram2d": [
           {
            "colorbar": {
             "outlinewidth": 0,
             "ticks": ""
            },
            "colorscale": [
             [
              0,
              "#0d0887"
             ],
             [
              0.1111111111111111,
              "#46039f"
             ],
             [
              0.2222222222222222,
              "#7201a8"
             ],
             [
              0.3333333333333333,
              "#9c179e"
             ],
             [
              0.4444444444444444,
              "#bd3786"
             ],
             [
              0.5555555555555556,
              "#d8576b"
             ],
             [
              0.6666666666666666,
              "#ed7953"
             ],
             [
              0.7777777777777778,
              "#fb9f3a"
             ],
             [
              0.8888888888888888,
              "#fdca26"
             ],
             [
              1,
              "#f0f921"
             ]
            ],
            "type": "histogram2d"
           }
          ],
          "histogram2dcontour": [
           {
            "colorbar": {
             "outlinewidth": 0,
             "ticks": ""
            },
            "colorscale": [
             [
              0,
              "#0d0887"
             ],
             [
              0.1111111111111111,
              "#46039f"
             ],
             [
              0.2222222222222222,
              "#7201a8"
             ],
             [
              0.3333333333333333,
              "#9c179e"
             ],
             [
              0.4444444444444444,
              "#bd3786"
             ],
             [
              0.5555555555555556,
              "#d8576b"
             ],
             [
              0.6666666666666666,
              "#ed7953"
             ],
             [
              0.7777777777777778,
              "#fb9f3a"
             ],
             [
              0.8888888888888888,
              "#fdca26"
             ],
             [
              1,
              "#f0f921"
             ]
            ],
            "type": "histogram2dcontour"
           }
          ],
          "mesh3d": [
           {
            "colorbar": {
             "outlinewidth": 0,
             "ticks": ""
            },
            "type": "mesh3d"
           }
          ],
          "parcoords": [
           {
            "line": {
             "colorbar": {
              "outlinewidth": 0,
              "ticks": ""
             }
            },
            "type": "parcoords"
           }
          ],
          "pie": [
           {
            "automargin": true,
            "type": "pie"
           }
          ],
          "scatter": [
           {
            "fillpattern": {
             "fillmode": "overlay",
             "size": 10,
             "solidity": 0.2
            },
            "type": "scatter"
           }
          ],
          "scatter3d": [
           {
            "line": {
             "colorbar": {
              "outlinewidth": 0,
              "ticks": ""
             }
            },
            "marker": {
             "colorbar": {
              "outlinewidth": 0,
              "ticks": ""
             }
            },
            "type": "scatter3d"
           }
          ],
          "scattercarpet": [
           {
            "marker": {
             "colorbar": {
              "outlinewidth": 0,
              "ticks": ""
             }
            },
            "type": "scattercarpet"
           }
          ],
          "scattergeo": [
           {
            "marker": {
             "colorbar": {
              "outlinewidth": 0,
              "ticks": ""
             }
            },
            "type": "scattergeo"
           }
          ],
          "scattergl": [
           {
            "marker": {
             "colorbar": {
              "outlinewidth": 0,
              "ticks": ""
             }
            },
            "type": "scattergl"
           }
          ],
          "scattermapbox": [
           {
            "marker": {
             "colorbar": {
              "outlinewidth": 0,
              "ticks": ""
             }
            },
            "type": "scattermapbox"
           }
          ],
          "scatterpolar": [
           {
            "marker": {
             "colorbar": {
              "outlinewidth": 0,
              "ticks": ""
             }
            },
            "type": "scatterpolar"
           }
          ],
          "scatterpolargl": [
           {
            "marker": {
             "colorbar": {
              "outlinewidth": 0,
              "ticks": ""
             }
            },
            "type": "scatterpolargl"
           }
          ],
          "scatterternary": [
           {
            "marker": {
             "colorbar": {
              "outlinewidth": 0,
              "ticks": ""
             }
            },
            "type": "scatterternary"
           }
          ],
          "surface": [
           {
            "colorbar": {
             "outlinewidth": 0,
             "ticks": ""
            },
            "colorscale": [
             [
              0,
              "#0d0887"
             ],
             [
              0.1111111111111111,
              "#46039f"
             ],
             [
              0.2222222222222222,
              "#7201a8"
             ],
             [
              0.3333333333333333,
              "#9c179e"
             ],
             [
              0.4444444444444444,
              "#bd3786"
             ],
             [
              0.5555555555555556,
              "#d8576b"
             ],
             [
              0.6666666666666666,
              "#ed7953"
             ],
             [
              0.7777777777777778,
              "#fb9f3a"
             ],
             [
              0.8888888888888888,
              "#fdca26"
             ],
             [
              1,
              "#f0f921"
             ]
            ],
            "type": "surface"
           }
          ],
          "table": [
           {
            "cells": {
             "fill": {
              "color": "#EBF0F8"
             },
             "line": {
              "color": "white"
             }
            },
            "header": {
             "fill": {
              "color": "#C8D4E3"
             },
             "line": {
              "color": "white"
             }
            },
            "type": "table"
           }
          ]
         },
         "layout": {
          "annotationdefaults": {
           "arrowcolor": "#2a3f5f",
           "arrowhead": 0,
           "arrowwidth": 1
          },
          "autotypenumbers": "strict",
          "coloraxis": {
           "colorbar": {
            "outlinewidth": 0,
            "ticks": ""
           }
          },
          "colorscale": {
           "diverging": [
            [
             0,
             "#8e0152"
            ],
            [
             0.1,
             "#c51b7d"
            ],
            [
             0.2,
             "#de77ae"
            ],
            [
             0.3,
             "#f1b6da"
            ],
            [
             0.4,
             "#fde0ef"
            ],
            [
             0.5,
             "#f7f7f7"
            ],
            [
             0.6,
             "#e6f5d0"
            ],
            [
             0.7,
             "#b8e186"
            ],
            [
             0.8,
             "#7fbc41"
            ],
            [
             0.9,
             "#4d9221"
            ],
            [
             1,
             "#276419"
            ]
           ],
           "sequential": [
            [
             0,
             "#0d0887"
            ],
            [
             0.1111111111111111,
             "#46039f"
            ],
            [
             0.2222222222222222,
             "#7201a8"
            ],
            [
             0.3333333333333333,
             "#9c179e"
            ],
            [
             0.4444444444444444,
             "#bd3786"
            ],
            [
             0.5555555555555556,
             "#d8576b"
            ],
            [
             0.6666666666666666,
             "#ed7953"
            ],
            [
             0.7777777777777778,
             "#fb9f3a"
            ],
            [
             0.8888888888888888,
             "#fdca26"
            ],
            [
             1,
             "#f0f921"
            ]
           ],
           "sequentialminus": [
            [
             0,
             "#0d0887"
            ],
            [
             0.1111111111111111,
             "#46039f"
            ],
            [
             0.2222222222222222,
             "#7201a8"
            ],
            [
             0.3333333333333333,
             "#9c179e"
            ],
            [
             0.4444444444444444,
             "#bd3786"
            ],
            [
             0.5555555555555556,
             "#d8576b"
            ],
            [
             0.6666666666666666,
             "#ed7953"
            ],
            [
             0.7777777777777778,
             "#fb9f3a"
            ],
            [
             0.8888888888888888,
             "#fdca26"
            ],
            [
             1,
             "#f0f921"
            ]
           ]
          },
          "colorway": [
           "#636efa",
           "#EF553B",
           "#00cc96",
           "#ab63fa",
           "#FFA15A",
           "#19d3f3",
           "#FF6692",
           "#B6E880",
           "#FF97FF",
           "#FECB52"
          ],
          "font": {
           "color": "#2a3f5f"
          },
          "geo": {
           "bgcolor": "white",
           "lakecolor": "white",
           "landcolor": "#E5ECF6",
           "showlakes": true,
           "showland": true,
           "subunitcolor": "white"
          },
          "hoverlabel": {
           "align": "left"
          },
          "hovermode": "closest",
          "mapbox": {
           "style": "light"
          },
          "paper_bgcolor": "white",
          "plot_bgcolor": "#E5ECF6",
          "polar": {
           "angularaxis": {
            "gridcolor": "white",
            "linecolor": "white",
            "ticks": ""
           },
           "bgcolor": "#E5ECF6",
           "radialaxis": {
            "gridcolor": "white",
            "linecolor": "white",
            "ticks": ""
           }
          },
          "scene": {
           "xaxis": {
            "backgroundcolor": "#E5ECF6",
            "gridcolor": "white",
            "gridwidth": 2,
            "linecolor": "white",
            "showbackground": true,
            "ticks": "",
            "zerolinecolor": "white"
           },
           "yaxis": {
            "backgroundcolor": "#E5ECF6",
            "gridcolor": "white",
            "gridwidth": 2,
            "linecolor": "white",
            "showbackground": true,
            "ticks": "",
            "zerolinecolor": "white"
           },
           "zaxis": {
            "backgroundcolor": "#E5ECF6",
            "gridcolor": "white",
            "gridwidth": 2,
            "linecolor": "white",
            "showbackground": true,
            "ticks": "",
            "zerolinecolor": "white"
           }
          },
          "shapedefaults": {
           "line": {
            "color": "#2a3f5f"
           }
          },
          "ternary": {
           "aaxis": {
            "gridcolor": "white",
            "linecolor": "white",
            "ticks": ""
           },
           "baxis": {
            "gridcolor": "white",
            "linecolor": "white",
            "ticks": ""
           },
           "bgcolor": "#E5ECF6",
           "caxis": {
            "gridcolor": "white",
            "linecolor": "white",
            "ticks": ""
           }
          },
          "title": {
           "x": 0.05
          },
          "xaxis": {
           "automargin": true,
           "gridcolor": "white",
           "linecolor": "white",
           "ticks": "",
           "title": {
            "standoff": 15
           },
           "zerolinecolor": "white",
           "zerolinewidth": 2
          },
          "yaxis": {
           "automargin": true,
           "gridcolor": "white",
           "linecolor": "white",
           "ticks": "",
           "title": {
            "standoff": 15
           },
           "zerolinecolor": "white",
           "zerolinewidth": 2
          }
         }
        },
        "title": {
         "text": "GRÁFICA DE ARMADURA A CALCULAR"
        },
        "xaxis": {
         "title": {
          "text": "Coordenadas X (m)"
         }
        },
        "yaxis": {
         "title": {
          "text": "Coordenadas Y (m)"
         }
        }
       }
      }
     },
     "metadata": {},
     "output_type": "display_data"
    }
   ],
   "source": [
    "fig = go.Figure()\n",
    "\n",
    "#Ploteo de barras\n",
    "contador = 1\n",
    "for barra in barras:\n",
    "    nodo_i = barra[0]   #Nodo i de la barra\n",
    "    nodo_j = barra[1]   #Nodo j de la barra\n",
    "\n",
    "    i_x = nodos[nodo_i-1, 0] #Coordenada X del nudo i de la barra\n",
    "    i_y = nodos[nodo_i-1, 1] #Coordenada Y del nudo i de la barra\n",
    "    j_x = nodos[nodo_j-1, 0] #Coordenada X del nudo j de la barra\n",
    "    j_y = nodos[nodo_j-1, 1] #Coordenada Y del nudo j de la barra\n",
    "\n",
    "    fig.add_trace(go.Scatter(x=[i_x,j_x], y=[i_y,j_y], \n",
    "                            mode='lines+markers',\n",
    "                            name='barra ' + str(contador),\n",
    "                            #showlegend=False,\n",
    "                            #line = dict(color='black'),\n",
    "                            ))\n",
    "    contador += 1\n",
    "\n",
    "#Ploteo de fuerzas\n",
    "\n",
    "\n",
    "\n",
    "for i in range(len(fuerzas)):\n",
    "    fuerza = fuerzas[i][0]\n",
    "\n",
    "    if fuerza != 0:\n",
    "        x_fuerza = nodos[math.trunc(i/2), 0]\n",
    "        y_fuerza = nodos[math.trunc(i/2), 1]\n",
    "\n",
    "        if i%2 == 0:\n",
    "            ax_fuerza = fuerza\n",
    "            ay_fuerza = 0\n",
    "        else:\n",
    "            ax_fuerza = 0\n",
    "            ay_fuerza = fuerza\n",
    "\n",
    "        fig.add_annotation(\n",
    "            x=x_fuerza,\n",
    "            y=y_fuerza,\n",
    "            xref=\"x\",\n",
    "            yref=\"y\",\n",
    "            text=str(fuerza/1000)+\" kN\",\n",
    "            showarrow=True,\n",
    "            font=dict(\n",
    "                family=\"Courier New, monospace\",\n",
    "                size=12,\n",
    "                color=\"#000000\"\n",
    "                ),\n",
    "            align=\"center\",\n",
    "            arrowhead=2,\n",
    "            arrowsize=1,\n",
    "            arrowwidth=2,\n",
    "            arrowcolor=\"#000000\",\n",
    "            ax=-ax_fuerza*.0003,\n",
    "            ay=ay_fuerza*.0003,\n",
    "            opacity=0.7\n",
    "            )\n",
    "            \n",
    "fig.update_layout(title='GRÁFICA DE ARMADURA A CALCULAR',\n",
    "                   xaxis_title='Coordenadas X (m)',\n",
    "                   yaxis_title='Coordenadas Y (m)')\n",
    "\n",
    "fig.show()\n"
   ]
  },
  {
   "cell_type": "markdown",
   "metadata": {},
   "source": [
    "## 2. PROCESAMIENTO"
   ]
  },
  {
   "cell_type": "markdown",
   "metadata": {},
   "source": [
    "### 2.1 Determinar la rigidez local de cada elemento\n",
    "\n",
    "\\begin{equation*}\n",
    "[Ke]=\n",
    "\\begin{bmatrix}\n",
    "AE/L & 0 & -AE/L & 0\\\\\n",
    "0 & 0 & 0 & 0\\\\\n",
    "-AE/L & 0 & AE/L & 0\\\\\n",
    "0 & 0 & 0 & 0\n",
    "\\end{bmatrix}\n",
    "\\end{equation*}\n",
    "\n",
    "\n",
    "### 2.2 Matriz de transformación [T]\n",
    "\n",
    "\\begin{equation*}\n",
    "[T]=\n",
    "\\begin{bmatrix}\n",
    "\\cos{\\theta} & -\\sin{\\theta} & 0 & 0\\\\\n",
    "\\sin{\\theta} & \\cos{\\theta} & 0 & 0\\\\\n",
    "0 & 0 & \\cos{\\theta} & -\\sin{\\theta} \\\\\n",
    "0 & 0 & \\sin{\\theta} & \\cos{\\theta}\n",
    "\\end{bmatrix}\n",
    "\\end{equation*}\n",
    "\n",
    "\n",
    "<img src=\"elemento_orientacion.png\">\n",
    "Fuente: Kennane, 2013\n",
    "\n",
    "### 2.3 Matriz de rigidez global por cada elemento reducido\n",
    "\n",
    "\\begin{equation*}\n",
    "[K^{elem}_{glob.red}]=[T]^T \\cdot [Ke] \\cdot [T]\n",
    "\\end{equation*}\n",
    "\n",
    "### 2.4 Matriz de rigidez global del elemento\n",
    "\n",
    "En este paso se ensambla la matriz de rigidez global por cada elemento reducido en su correspondiente fila y columna en la matriz de rigidez global de cada elemento según el GDL, para posteriormente sumar el aporte de cada elemento a la matriz de rigidez global de la estructura."
   ]
  },
  {
   "cell_type": "code",
   "execution_count": 175,
   "metadata": {},
   "outputs": [],
   "source": [
    "def calculosPorBarra(barraNo):\n",
    "    \n",
    "    nodo_i = barras[barraNo][0]\n",
    "    nodo_j = barras[barraNo][1]\n",
    "\n",
    "    xi = nodos[nodo_i-1][0]\n",
    "    yi = nodos[nodo_i-1][1]\n",
    "    xj = nodos[nodo_j-1][0]\n",
    "    yj = nodos[nodo_j-1][1]\n",
    "\n",
    "    coordX=[xi,xj]\n",
    "    coordY=[yi,yj]\n",
    "\n",
    "    dx = xj-xi #distancia en la componente X\n",
    "    dy = yj-yi #distancia en la componente Y\n",
    "\n",
    "    puntero =np.array([[nodo_i*2-1, nodo_i*2, nodo_j*2-1, nodo_j*2]])    #Vector que contiene los GDL del nodo inicial y final\n",
    "\n",
    "    L = math.sqrt(dx**2+dy**2) #Longitud total de la barra\n",
    "\n",
    "    # 2.1 Matriz de rigidez local\n",
    "    Ke=(E*A/L)*np.array([   [1,0,-1,0],\n",
    "                            [0,0,0,0],\n",
    "                            [-1,0,1,0],\n",
    "                            [0,0,0,0]])\n",
    "\n",
    "\n",
    "    # 2.2 Matriz de transformación\n",
    "\n",
    "    # Se necesita determinar el ángulo de la barra con respecto a la horizontal, para ello se definen los siguientes casos:\n",
    "\n",
    "    if(dx>0 and dy==0): #Vector horizontal apuntando a la derecha (theta = 0°)\n",
    "        theta = 0\n",
    "    elif(dx==0 and dy>0): #Vector vertical apuntando hacia arriba (theta = 90°)\n",
    "        theta = math.pi/2\n",
    "    elif(dx<0 and dy==0): #Vector horizontal apuntando a la izquierda (theta = 180°)\n",
    "        theta = math.pi\n",
    "    elif(dx==0 and dy<0): #Vector vertical apuntando hacia abajo (theta = 270°)\n",
    "        theta = 3*math.pi/2\n",
    "    elif(dx>0 and dy>0): # Primer cuadrante (0°<theta<90°)\n",
    "        theta = math.atan(dy/dx)\n",
    "    elif(dx<0 and dy>0): # Segundo cuadrante (90°<theta<180°)\n",
    "        theta = math.atan(dy/dx)+math.pi\n",
    "    elif(dx<0 and dy<0): # Tercer cuadrante (180°<theta<270°)\n",
    "        theta = math.atan(dy/dx)+math.pi\n",
    "    elif(dx>0 and dy<0): # Cuarto cuadrante (270°<theta<360°)\n",
    "        theta = math.atan(dy/dx)+2*math.pi\n",
    "\n",
    "\n",
    "    S_theta = math.sin(theta) #Seno del ángulo theta\n",
    "    C_theta = math.cos(theta) #Coseno del ángulo C_theta\n",
    "\n",
    "    T = np.array([  [C_theta,-S_theta,0,0],\n",
    "                    [S_theta,C_theta,0,0],\n",
    "                    [0,0,C_theta,-S_theta],\n",
    "                    [0,0,S_theta,C_theta]])\n",
    "\n",
    "    # 2.3 Matriz de rigidez global reducida del elemento\n",
    "\n",
    "    Ke_gr = np.dot(np.dot(np.transpose(T),Ke),T)\n",
    "\n",
    "    # 2.4 Matriz de rigidez global del elemento\n",
    "\n",
    "    Ke_g = np.zeros((gdl,gdl)) # Creación de la matriz con solo ceros\n",
    "\n",
    "    # Se reemplazará los ceros con los valores de Ke_gr en su respectiva posición según su GDL\n",
    "    for i in range(4):\n",
    "        for j in range(4):\n",
    "            \n",
    "            a = puntero[0,i]-1 #GDL para primera posición\n",
    "            b = puntero[0,j]-1 #GDL para segunda posición            \n",
    "                \n",
    "            Ke_g[a,b] = Ke_gr[i,j] #Asignación del valor correspondiente a su fila y columna según el GDL correspondiente\n",
    "\n",
    "\n",
    "    \n",
    "    return L,coordX,coordY,puntero, Ke, T, Ke_gr, Ke_g    \n",
    "       "
   ]
  },
  {
   "cell_type": "code",
   "execution_count": 176,
   "metadata": {},
   "outputs": [],
   "source": [
    "#Creación de la lista que contendrá los cálculos de cada barra\n",
    "CalcBarra = []\n",
    "\n",
    "#Cálculo por cada elemento \n",
    "for i in range(len(barras)):\n",
    "    L,coordX,coordY,puntero, Ke, T, Ke_gr, Ke_g = calculosPorBarra(i)\n",
    "    calculos = {    'Barra' : i+1,\n",
    "                    'Longitud': L,\n",
    "                    'Coordenadas X':coordX,\n",
    "                    'Coordenadas Y':coordY,\n",
    "                    'Puntero':puntero,\n",
    "                    'Rigidez Elemento':Ke,\n",
    "                    'Matriz Transpuesta':T,\n",
    "                    'Rigidez Elemento Glob. Red.':Ke_gr,\n",
    "                    'Rigidez Elemento Global':Ke_g\n",
    "                }\n",
    "    CalcBarra.append(calculos)\n",
    "    \n"
   ]
  },
  {
   "cell_type": "markdown",
   "metadata": {},
   "source": [
    "### 2.5 Ensamblaje de la matriz global de la estructura\n",
    "\n",
    "Para hallar la matriz global de la estructura simplemente se tiene que sumar las matrices globales de cada elemento, los cuales lo tenemos guardado en la lista \"CalcBarra\"."
   ]
  },
  {
   "cell_type": "code",
   "execution_count": 177,
   "metadata": {},
   "outputs": [],
   "source": [
    "K=np.zeros((gdl,gdl)) #Se crea la matriz de rigidez de la estructura con ceros que se llenarán posteriormente\n",
    "\n",
    "for i in range(len(barras)):\n",
    "    K = K + CalcBarra[i]['Rigidez Elemento Global']"
   ]
  },
  {
   "cell_type": "markdown",
   "metadata": {},
   "source": [
    "### 2.6 Reducción de la matriz global de la estructura y la matriz de fuerzas\n",
    "Se reduce la matriz global de la estructura en donde los desplazamientos son conocidos. Es decir, para este caso se eliminaran las filas de los GDL en donde los desplazamientos son ceros (los apoyos). Además, se eliminan las filas también de los GDL en donde los desplazamientos son conocidos, esto con la finalidad de resolver una ecuación matricial en donde las únicas incógnitas son los desplazamientos."
   ]
  },
  {
   "cell_type": "code",
   "execution_count": 178,
   "metadata": {},
   "outputs": [],
   "source": [
    "# Reducción de la matriz global de la estructura\n",
    "K_red=K #Asignamos la matriz global a la matriz global reducida para poder eliminar filas y columnas\n",
    "\n",
    "K_red=np.delete(K_red,[elemento - 1 for elemento in restricciones],axis=0) #Elimina la fila\n",
    "K_red=np.delete(K_red,[elemento - 1 for elemento in restricciones],axis=1) #Elimina la columna\n",
    "\n",
    "#Reducción del vector de fuerzas\n",
    "F_red = fuerzas\n",
    "\n",
    "F_red=np.delete(F_red,[elemento - 1 for elemento in restricciones],axis=0) #Se eliminan las filas en donde los desplazamientos son conocidos\n",
    "\n"
   ]
  },
  {
   "cell_type": "markdown",
   "metadata": {},
   "source": [
    "### 2.7 Solución de la ecuación $[K]_{red}[\\delta]_{red}=[F]_{red}$\n",
    "\n",
    "En este paso se hallarán los desplazamientos desconocidos con el sistema reducido y luego se completará con ceros en los GDL donde ya se conocen los desplazamientos (apoyos)"
   ]
  },
  {
   "cell_type": "code",
   "execution_count": 179,
   "metadata": {},
   "outputs": [
    {
     "name": "stdout",
     "output_type": "stream",
     "text": [
      "[[ 0.00000000e+00]\n",
      " [ 0.00000000e+00]\n",
      " [-4.15354210e-03]\n",
      " [-7.31296861e-04]\n",
      " [-4.47344854e-03]\n",
      " [ 3.24548026e-04]\n",
      " [-6.53370719e-03]\n",
      " [ 1.79476448e-03]\n",
      " [-8.86968012e-03]\n",
      " [-1.62933381e-18]\n",
      " [-1.14224542e-02]\n",
      " [-1.53420791e-02]\n",
      " [-1.21437049e-02]\n",
      " [-4.36348297e-02]\n",
      " [-8.77990323e-03]\n",
      " [-7.60224620e-02]\n",
      " [ 1.41053415e-06]\n",
      " [-8.56987327e-02]\n",
      " [ 8.78075975e-03]\n",
      " [-7.60371653e-02]\n",
      " [ 1.21455524e-02]\n",
      " [-4.36376016e-02]\n",
      " [ 1.14265232e-02]\n",
      " [-1.53574718e-02]\n",
      " [ 8.87190329e-03]\n",
      " [ 1.62974219e-18]\n",
      " [ 6.53652317e-03]\n",
      " [ 1.79505317e-03]\n",
      " [ 4.47445302e-03]\n",
      " [ 3.23803661e-04]\n",
      " [ 4.15173512e-03]\n",
      " [-7.24241370e-04]\n",
      " [ 0.00000000e+00]\n",
      " [ 0.00000000e+00]\n",
      " [ 1.32545447e-03]\n",
      " [ 1.01179001e-05]\n",
      " [ 1.38008034e-03]\n",
      " [ 2.87059887e-04]\n",
      " [ 1.59602302e-03]\n",
      " [ 9.44987822e-04]\n",
      " [ 0.00000000e+00]\n",
      " [ 0.00000000e+00]\n",
      " [-4.69512568e-03]\n",
      " [-1.66810520e-02]\n",
      " [-3.91015777e-03]\n",
      " [-4.48949639e-02]\n",
      " [-8.71662100e-04]\n",
      " [-7.65439174e-02]\n",
      " [ 2.18670051e-06]\n",
      " [-8.57173575e-02]\n",
      " [ 8.76788921e-04]\n",
      " [-7.65291585e-02]\n",
      " [ 3.91408439e-03]\n",
      " [-4.48930055e-02]\n",
      " [ 4.69963259e-03]\n",
      " [-1.66625913e-02]\n",
      " [ 0.00000000e+00]\n",
      " [ 0.00000000e+00]\n",
      " [-1.59568718e-03]\n",
      " [ 9.44721777e-04]\n",
      " [-1.38063300e-03]\n",
      " [ 2.88100574e-04]\n",
      " [-1.32699920e-03]\n",
      " [ 6.39646744e-06]]\n"
     ]
    }
   ],
   "source": [
    "delta_desc=np.dot(np.linalg.inv(K_red),F_red) #Se resuelve la ecuación matricial\n",
    "\n",
    "#Se crea una lista complementaria a la de restricciones, que muestre las posiciones en donde no se conocen los desplazamientos\n",
    "\n",
    "restric_complem =[]\n",
    "\n",
    "for i in range(gdl):\n",
    "    restric_complem.append(i+1)\n",
    "\n",
    "for restriccion in restricciones:\n",
    "    restric_complem.remove(restriccion)\n",
    "\n",
    "#Se completa el vector de desplazamientos global de la estructura\n",
    "\n",
    "delta = np.array([np.zeros(gdl)]).T #Vector de ceros para reemplazar en su lugar los desplazamientos hallados\n",
    "\n",
    "contador=0\n",
    "for i in restric_complem:\n",
    "    delta[i-1]=delta_desc[contador]\n",
    "    contador += 1\n",
    "\n",
    "print(delta)\n"
   ]
  },
  {
   "cell_type": "markdown",
   "metadata": {},
   "source": [
    "## 3. POST-PROCESAMIENTO"
   ]
  },
  {
   "cell_type": "markdown",
   "metadata": {},
   "source": [
    "### 3.1 Cálculo de las fuerzas desconocidas globales\n",
    "\n",
    "Se resuelve nuevamente la ecuación que se presenta a continuación, en donde la incógnita será el vector de fuerzas\n",
    "\n",
    "\\begin{equation*}\n",
    "[K][\\delta]=[F]\n",
    "\\end{equation*}"
   ]
  },
  {
   "cell_type": "code",
   "execution_count": 180,
   "metadata": {},
   "outputs": [
    {
     "name": "stdout",
     "output_type": "stream",
     "text": [
      "[[ 1.25006477e+05]\n",
      " [-1.07209364e+05]\n",
      " [-2.32830644e-10]\n",
      " [ 2.91038305e-11]\n",
      " [ 0.00000000e+00]\n",
      " [ 3.63797881e-12]\n",
      " [ 0.00000000e+00]\n",
      " [-2.91038305e-11]\n",
      " [ 0.00000000e+00]\n",
      " [-3.87740912e-26]\n",
      " [ 2.32830644e-10]\n",
      " [-2.00000000e+05]\n",
      " [ 1.16415322e-10]\n",
      " [-2.00000000e+05]\n",
      " [-3.49245965e-10]\n",
      " [-2.00000000e+05]\n",
      " [-1.60071068e-10]\n",
      " [-2.00000000e+05]\n",
      " [ 2.32830644e-10]\n",
      " [-2.00000000e+05]\n",
      " [-3.49245965e-10]\n",
      " [-2.00000000e+05]\n",
      " [ 1.16415322e-09]\n",
      " [-2.00000000e+05]\n",
      " [-2.32830644e-10]\n",
      " [ 1.29246971e-26]\n",
      " [ 2.32830644e-10]\n",
      " [ 0.00000000e+00]\n",
      " [-2.32830644e-10]\n",
      " [-3.63797881e-12]\n",
      " [ 5.82076609e-11]\n",
      " [ 0.00000000e+00]\n",
      " [-1.25075811e+05]\n",
      " [-1.07236842e+05]\n",
      " [-5.82076609e-11]\n",
      " [ 2.91038305e-11]\n",
      " [ 2.91038305e-11]\n",
      " [ 1.40971679e-11]\n",
      " [-2.91038305e-11]\n",
      " [-5.82076609e-11]\n",
      " [ 9.31494287e+05]\n",
      " [ 8.07223833e+05]\n",
      " [-4.65661287e-10]\n",
      " [ 0.00000000e+00]\n",
      " [-4.65661287e-10]\n",
      " [-1.16415322e-09]\n",
      " [ 9.31322575e-10]\n",
      " [-1.39698386e-09]\n",
      " [-1.43359102e-10]\n",
      " [ 6.60656951e-09]\n",
      " [-4.65661287e-10]\n",
      " [-1.16415322e-09]\n",
      " [-1.39698386e-09]\n",
      " [ 0.00000000e+00]\n",
      " [-1.39698386e-09]\n",
      " [-1.16415322e-09]\n",
      " [-9.31424953e+05]\n",
      " [ 8.07222373e+05]\n",
      " [ 0.00000000e+00]\n",
      " [-2.91038305e-11]\n",
      " [-2.91038305e-11]\n",
      " [ 1.79625204e-11]\n",
      " [ 5.82076609e-11]\n",
      " [-5.82076609e-11]]\n"
     ]
    }
   ],
   "source": [
    "F = np.dot(K,delta)\n",
    "print(F)"
   ]
  },
  {
   "cell_type": "markdown",
   "metadata": {},
   "source": [
    "### 3.2 Cálculo de las fuerzas internas y desplazamientos locales de cada barra\n",
    "\n",
    "* Desplazamientos locales\n",
    "\\begin{equation*}\n",
    "\\begin{bmatrix}\n",
    "u'_{xi}\\\\\n",
    "u'_{yi}\\\\\n",
    "u'_{xj}\\\\\n",
    "u'_{yj}\n",
    "\\end{bmatrix}\n",
    "= [T][u]\n",
    "\\end{equation*}\n",
    "\n",
    "* Elongación de barra\n",
    "\\begin{equation*}\n",
    "elongación=u'_{xj}-u'_{xi}\n",
    "\\end{equation*}\n",
    "\n",
    "* Fuerza interna\n",
    "\\begin{equation*}\n",
    "P=\\frac{EA}{L} \\cdot elongación\n",
    "\\end{equation*}\n"
   ]
  },
  {
   "cell_type": "code",
   "execution_count": 181,
   "metadata": {},
   "outputs": [],
   "source": [
    "def desplBarraGlob(barraNo):\n",
    "    nodo_i = barras[barraNo][0]\n",
    "    nodo_j = barras[barraNo][1]\n",
    "\n",
    "    puntero =np.array([[nodo_i*2-1, nodo_i*2, nodo_j*2-1, nodo_j*2]]) #Vector que contiene los GDL del nodo inicial y final\n",
    "\n",
    "    # Desplazamientos globales de los nudos de cada barra\n",
    "\n",
    "    delta_barra_global=np.zeros((4,1))\n",
    "\n",
    "    for i in range(4):\n",
    "        delta_barra_global[i,0] = delta[puntero[0,i]-1,0]\n",
    "\n",
    "    # Desplazamientos \n",
    "    return delta_barra_global"
   ]
  },
  {
   "cell_type": "code",
   "execution_count": 182,
   "metadata": {},
   "outputs": [],
   "source": [
    "for i in range(len(barras)):\n",
    "    delta_barra_global = desplBarraGlob(i)\n",
    "\n",
    "    #Se irá agregando a la lista los resultados de cada barra\n",
    "    CalcBarra[i]['Delta Barra Global']=delta_barra_global\n",
    "    CalcBarra[i]['Delta Barra Local']=np.dot(CalcBarra[i]['Matriz Transpuesta'],CalcBarra[i]['Delta Barra Global'])\n",
    "    CalcBarra[i]['Elongación']=CalcBarra[i]['Delta Barra Local'][2,0]-CalcBarra[i]['Delta Barra Local'][0,0]\n",
    "    CalcBarra[i]['Fuerza interna']=E*A/CalcBarra[i]['Longitud']*CalcBarra[i]['Elongación']\n",
    "    \n",
    "    if round(CalcBarra[i]['Fuerza interna'],3)>0:\n",
    "        CalcBarra[i]['Estado']='Tracción'\n",
    "    elif round(CalcBarra[i]['Fuerza interna'],3)<0:\n",
    "        CalcBarra[i]['Estado']='Compresión'\n",
    "    elif round(CalcBarra[i]['Fuerza interna'],0)==0:\n",
    "        CalcBarra[i]['Estado']='No esforzada'\n",
    "        \n"
   ]
  },
  {
   "cell_type": "markdown",
   "metadata": {},
   "source": [
    "### 3.3 Ploteo de resultados"
   ]
  },
  {
   "cell_type": "code",
   "execution_count": 183,
   "metadata": {},
   "outputs": [
    {
     "data": {
      "application/vnd.plotly.v1+json": {
       "config": {
        "plotlyServerURL": "https://plot.ly"
       },
       "data": [
        {
         "line": {
          "color": "blue"
         },
         "mode": "lines+markers",
         "name": "Compresión",
         "type": "scatter",
         "x": [
          0,
          9.804
         ],
         "y": [
          0,
          18
         ]
        },
        {
         "line": {
          "color": "blue"
         },
         "mode": "lines+markers",
         "name": "Compresión",
         "type": "scatter",
         "x": [
          9.804,
          20
         ],
         "y": [
          18,
          18
         ]
        },
        {
         "line": {
          "color": "blue"
         },
         "mode": "lines+markers",
         "name": "Compresión",
         "type": "scatter",
         "x": [
          20,
          30.195
         ],
         "y": [
          18,
          18
         ]
        },
        {
         "line": {
          "color": "blue"
         },
         "mode": "lines+markers",
         "name": "Compresión",
         "type": "scatter",
         "x": [
          30.195,
          40
         ],
         "y": [
          18,
          18
         ]
        },
        {
         "line": {
          "color": "blue"
         },
         "mode": "lines+markers",
         "name": "Compresión",
         "type": "scatter",
         "x": [
          40,
          50.715
         ],
         "y": [
          18,
          18
         ]
        },
        {
         "line": {
          "color": "blue"
         },
         "mode": "lines+markers",
         "name": "Compresión",
         "type": "scatter",
         "x": [
          50.715,
          62.939
         ],
         "y": [
          18,
          18
         ]
        },
        {
         "line": {
          "color": "red"
         },
         "mode": "lines+markers",
         "name": "Tracción",
         "type": "scatter",
         "x": [
          62.939,
          76.204
         ],
         "y": [
          18,
          18
         ]
        },
        {
         "line": {
          "color": "red"
         },
         "mode": "lines+markers",
         "name": "Tracción",
         "type": "scatter",
         "x": [
          76.204,
          90
         ],
         "y": [
          18,
          18
         ]
        },
        {
         "line": {
          "color": "red"
         },
         "mode": "lines+markers",
         "name": "Tracción",
         "type": "scatter",
         "x": [
          90,
          103.79
         ],
         "y": [
          18,
          18
         ]
        },
        {
         "line": {
          "color": "red"
         },
         "mode": "lines+markers",
         "name": "Tracción",
         "type": "scatter",
         "x": [
          103.79,
          117.06
         ],
         "y": [
          18,
          18
         ]
        },
        {
         "line": {
          "color": "blue"
         },
         "mode": "lines+markers",
         "name": "Compresión",
         "type": "scatter",
         "x": [
          117.06,
          129.28
         ],
         "y": [
          18,
          18
         ]
        },
        {
         "line": {
          "color": "blue"
         },
         "mode": "lines+markers",
         "name": "Compresión",
         "type": "scatter",
         "x": [
          129.28,
          140
         ],
         "y": [
          18,
          18
         ]
        },
        {
         "line": {
          "color": "blue"
         },
         "mode": "lines+markers",
         "name": "Compresión",
         "type": "scatter",
         "x": [
          140,
          149.8
         ],
         "y": [
          18,
          18
         ]
        },
        {
         "line": {
          "color": "blue"
         },
         "mode": "lines+markers",
         "name": "Compresión",
         "type": "scatter",
         "x": [
          149.8,
          160
         ],
         "y": [
          18,
          18
         ]
        },
        {
         "line": {
          "color": "blue"
         },
         "mode": "lines+markers",
         "name": "Compresión",
         "type": "scatter",
         "x": [
          160,
          170.19
         ],
         "y": [
          18,
          18
         ]
        },
        {
         "line": {
          "color": "blue"
         },
         "mode": "lines+markers",
         "name": "Compresión",
         "type": "scatter",
         "x": [
          170.19,
          180
         ],
         "y": [
          18,
          0
         ]
        },
        {
         "line": {
          "color": "blue"
         },
         "mode": "lines+markers",
         "name": "Compresión",
         "type": "scatter",
         "x": [
          180,
          170.16
         ],
         "y": [
          0,
          5.194
         ]
        },
        {
         "line": {
          "color": "blue"
         },
         "mode": "lines+markers",
         "name": "Compresión",
         "type": "scatter",
         "x": [
          170.16,
          160
         ],
         "y": [
          5.194,
          6.948
         ]
        },
        {
         "line": {
          "color": "blue"
         },
         "mode": "lines+markers",
         "name": "Compresión",
         "type": "scatter",
         "x": [
          160,
          149.8
         ],
         "y": [
          6.948,
          5.194
         ]
        },
        {
         "line": {
          "color": "red"
         },
         "mode": "lines+markers",
         "name": "Tracción",
         "type": "scatter",
         "x": [
          149.8,
          140
         ],
         "y": [
          5.194,
          0
         ]
        },
        {
         "line": {
          "color": "red"
         },
         "mode": "lines+markers",
         "name": "Tracción",
         "type": "scatter",
         "x": [
          140,
          129.28
         ],
         "y": [
          0,
          4.939
         ]
        },
        {
         "line": {
          "color": "red"
         },
         "mode": "lines+markers",
         "name": "Tracción",
         "type": "scatter",
         "x": [
          129.28,
          117.06
         ],
         "y": [
          4.939,
          8.61
         ]
        },
        {
         "line": {
          "color": "red"
         },
         "mode": "lines+markers",
         "name": "Tracción",
         "type": "scatter",
         "x": [
          117.06,
          103.79
         ],
         "y": [
          8.61,
          10.87
         ]
        },
        {
         "line": {
          "color": "blue"
         },
         "mode": "lines+markers",
         "name": "Compresión",
         "type": "scatter",
         "x": [
          103.79,
          90
         ],
         "y": [
          10.87,
          11.633
         ]
        },
        {
         "line": {
          "color": "blue"
         },
         "mode": "lines+markers",
         "name": "Compresión",
         "type": "scatter",
         "x": [
          90,
          76.204
         ],
         "y": [
          11.633,
          10.87
         ]
        },
        {
         "line": {
          "color": "red"
         },
         "mode": "lines+markers",
         "name": "Tracción",
         "type": "scatter",
         "x": [
          76.204,
          62.939
         ],
         "y": [
          10.87,
          8.61
         ]
        },
        {
         "line": {
          "color": "red"
         },
         "mode": "lines+markers",
         "name": "Tracción",
         "type": "scatter",
         "x": [
          62.939,
          50.715
         ],
         "y": [
          8.61,
          4.939
         ]
        },
        {
         "line": {
          "color": "red"
         },
         "mode": "lines+markers",
         "name": "Tracción",
         "type": "scatter",
         "x": [
          50.715,
          40
         ],
         "y": [
          4.939,
          0
         ]
        },
        {
         "line": {
          "color": "red"
         },
         "mode": "lines+markers",
         "name": "Tracción",
         "type": "scatter",
         "x": [
          40,
          30.195
         ],
         "y": [
          0,
          5.194
         ]
        },
        {
         "line": {
          "color": "blue"
         },
         "mode": "lines+markers",
         "name": "Compresión",
         "type": "scatter",
         "x": [
          30.195,
          20
         ],
         "y": [
          5.194,
          6.948
         ]
        },
        {
         "line": {
          "color": "blue"
         },
         "mode": "lines+markers",
         "name": "Compresión",
         "type": "scatter",
         "x": [
          20,
          9.804
         ],
         "y": [
          6.948,
          5.194
         ]
        },
        {
         "line": {
          "color": "blue"
         },
         "mode": "lines+markers",
         "name": "Compresión",
         "type": "scatter",
         "x": [
          9.804,
          0
         ],
         "y": [
          5.194,
          0
         ]
        },
        {
         "line": {
          "color": "red"
         },
         "mode": "lines+markers",
         "name": "Tracción",
         "type": "scatter",
         "x": [
          9.804,
          9.804
         ],
         "y": [
          18,
          5.194
         ]
        },
        {
         "line": {
          "color": "blue"
         },
         "mode": "lines+markers",
         "name": "Compresión",
         "type": "scatter",
         "x": [
          20,
          20
         ],
         "y": [
          18,
          6.948
         ]
        },
        {
         "line": {
          "color": "blue"
         },
         "mode": "lines+markers",
         "name": "Compresión",
         "type": "scatter",
         "x": [
          30.195,
          30.195
         ],
         "y": [
          18,
          5.194
         ]
        },
        {
         "line": {
          "color": "green"
         },
         "mode": "lines+markers",
         "name": "No esforzada",
         "type": "scatter",
         "x": [
          40,
          40
         ],
         "y": [
          18,
          0
         ]
        },
        {
         "line": {
          "color": "blue"
         },
         "mode": "lines+markers",
         "name": "Compresión",
         "type": "scatter",
         "x": [
          50.715,
          50.715
         ],
         "y": [
          18,
          4.939
         ]
        },
        {
         "line": {
          "color": "blue"
         },
         "mode": "lines+markers",
         "name": "Compresión",
         "type": "scatter",
         "x": [
          62.939,
          62.939
         ],
         "y": [
          18,
          8.61
         ]
        },
        {
         "line": {
          "color": "blue"
         },
         "mode": "lines+markers",
         "name": "Compresión",
         "type": "scatter",
         "x": [
          76.204,
          76.204
         ],
         "y": [
          18,
          10.87
         ]
        },
        {
         "line": {
          "color": "blue"
         },
         "mode": "lines+markers",
         "name": "Compresión",
         "type": "scatter",
         "x": [
          90,
          90
         ],
         "y": [
          18,
          11.633
         ]
        },
        {
         "line": {
          "color": "blue"
         },
         "mode": "lines+markers",
         "name": "Compresión",
         "type": "scatter",
         "x": [
          103.79,
          103.79
         ],
         "y": [
          18,
          10.87
         ]
        },
        {
         "line": {
          "color": "blue"
         },
         "mode": "lines+markers",
         "name": "Compresión",
         "type": "scatter",
         "x": [
          117.06,
          117.06
         ],
         "y": [
          18,
          8.61
         ]
        },
        {
         "line": {
          "color": "blue"
         },
         "mode": "lines+markers",
         "name": "Compresión",
         "type": "scatter",
         "x": [
          129.28,
          129.28
         ],
         "y": [
          18,
          4.939
         ]
        },
        {
         "line": {
          "color": "green"
         },
         "mode": "lines+markers",
         "name": "No esforzada",
         "type": "scatter",
         "x": [
          140,
          140
         ],
         "y": [
          18,
          0
         ]
        },
        {
         "line": {
          "color": "blue"
         },
         "mode": "lines+markers",
         "name": "Compresión",
         "type": "scatter",
         "x": [
          149.8,
          149.8
         ],
         "y": [
          18,
          5.194
         ]
        },
        {
         "line": {
          "color": "blue"
         },
         "mode": "lines+markers",
         "name": "Compresión",
         "type": "scatter",
         "x": [
          160,
          160
         ],
         "y": [
          18,
          6.948
         ]
        },
        {
         "line": {
          "color": "red"
         },
         "mode": "lines+markers",
         "name": "Tracción",
         "type": "scatter",
         "x": [
          170.19,
          170.16
         ],
         "y": [
          18,
          5.194
         ]
        },
        {
         "line": {
          "color": "blue"
         },
         "mode": "lines+markers",
         "name": "Compresión",
         "type": "scatter",
         "x": [
          20,
          9.804
         ],
         "y": [
          18,
          5.194
         ]
        },
        {
         "line": {
          "color": "red"
         },
         "mode": "lines+markers",
         "name": "Tracción",
         "type": "scatter",
         "x": [
          20,
          30.195
         ],
         "y": [
          18,
          5.194
         ]
        },
        {
         "line": {
          "color": "red"
         },
         "mode": "lines+markers",
         "name": "Tracción",
         "type": "scatter",
         "x": [
          30.195,
          40
         ],
         "y": [
          18,
          0
         ]
        },
        {
         "line": {
          "color": "red"
         },
         "mode": "lines+markers",
         "name": "Tracción",
         "type": "scatter",
         "x": [
          50.715,
          40
         ],
         "y": [
          18,
          0
         ]
        },
        {
         "line": {
          "color": "red"
         },
         "mode": "lines+markers",
         "name": "Tracción",
         "type": "scatter",
         "x": [
          62.939,
          50.715
         ],
         "y": [
          18,
          4.939
         ]
        },
        {
         "line": {
          "color": "red"
         },
         "mode": "lines+markers",
         "name": "Tracción",
         "type": "scatter",
         "x": [
          76.204,
          62.939
         ],
         "y": [
          18,
          8.61
         ]
        },
        {
         "line": {
          "color": "red"
         },
         "mode": "lines+markers",
         "name": "Tracción",
         "type": "scatter",
         "x": [
          90,
          76.204
         ],
         "y": [
          18,
          10.87
         ]
        },
        {
         "line": {
          "color": "red"
         },
         "mode": "lines+markers",
         "name": "Tracción",
         "type": "scatter",
         "x": [
          90,
          103.79
         ],
         "y": [
          18,
          10.87
         ]
        },
        {
         "line": {
          "color": "red"
         },
         "mode": "lines+markers",
         "name": "Tracción",
         "type": "scatter",
         "x": [
          103.79,
          117.06
         ],
         "y": [
          18,
          8.61
         ]
        },
        {
         "line": {
          "color": "red"
         },
         "mode": "lines+markers",
         "name": "Tracción",
         "type": "scatter",
         "x": [
          117.06,
          129.28
         ],
         "y": [
          18,
          4.939
         ]
        },
        {
         "line": {
          "color": "red"
         },
         "mode": "lines+markers",
         "name": "Tracción",
         "type": "scatter",
         "x": [
          129.28,
          140
         ],
         "y": [
          18,
          0
         ]
        },
        {
         "line": {
          "color": "red"
         },
         "mode": "lines+markers",
         "name": "Tracción",
         "type": "scatter",
         "x": [
          149.8,
          140
         ],
         "y": [
          18,
          0
         ]
        },
        {
         "line": {
          "color": "red"
         },
         "mode": "lines+markers",
         "name": "Tracción",
         "type": "scatter",
         "x": [
          160,
          149.8
         ],
         "y": [
          18,
          5.194
         ]
        },
        {
         "line": {
          "color": "blue"
         },
         "mode": "lines+markers",
         "name": "Compresión",
         "type": "scatter",
         "x": [
          160,
          170.16
         ],
         "y": [
          18,
          5.194
         ]
        }
       ],
       "layout": {
        "template": {
         "data": {
          "bar": [
           {
            "error_x": {
             "color": "#2a3f5f"
            },
            "error_y": {
             "color": "#2a3f5f"
            },
            "marker": {
             "line": {
              "color": "#E5ECF6",
              "width": 0.5
             },
             "pattern": {
              "fillmode": "overlay",
              "size": 10,
              "solidity": 0.2
             }
            },
            "type": "bar"
           }
          ],
          "barpolar": [
           {
            "marker": {
             "line": {
              "color": "#E5ECF6",
              "width": 0.5
             },
             "pattern": {
              "fillmode": "overlay",
              "size": 10,
              "solidity": 0.2
             }
            },
            "type": "barpolar"
           }
          ],
          "carpet": [
           {
            "aaxis": {
             "endlinecolor": "#2a3f5f",
             "gridcolor": "white",
             "linecolor": "white",
             "minorgridcolor": "white",
             "startlinecolor": "#2a3f5f"
            },
            "baxis": {
             "endlinecolor": "#2a3f5f",
             "gridcolor": "white",
             "linecolor": "white",
             "minorgridcolor": "white",
             "startlinecolor": "#2a3f5f"
            },
            "type": "carpet"
           }
          ],
          "choropleth": [
           {
            "colorbar": {
             "outlinewidth": 0,
             "ticks": ""
            },
            "type": "choropleth"
           }
          ],
          "contour": [
           {
            "colorbar": {
             "outlinewidth": 0,
             "ticks": ""
            },
            "colorscale": [
             [
              0,
              "#0d0887"
             ],
             [
              0.1111111111111111,
              "#46039f"
             ],
             [
              0.2222222222222222,
              "#7201a8"
             ],
             [
              0.3333333333333333,
              "#9c179e"
             ],
             [
              0.4444444444444444,
              "#bd3786"
             ],
             [
              0.5555555555555556,
              "#d8576b"
             ],
             [
              0.6666666666666666,
              "#ed7953"
             ],
             [
              0.7777777777777778,
              "#fb9f3a"
             ],
             [
              0.8888888888888888,
              "#fdca26"
             ],
             [
              1,
              "#f0f921"
             ]
            ],
            "type": "contour"
           }
          ],
          "contourcarpet": [
           {
            "colorbar": {
             "outlinewidth": 0,
             "ticks": ""
            },
            "type": "contourcarpet"
           }
          ],
          "heatmap": [
           {
            "colorbar": {
             "outlinewidth": 0,
             "ticks": ""
            },
            "colorscale": [
             [
              0,
              "#0d0887"
             ],
             [
              0.1111111111111111,
              "#46039f"
             ],
             [
              0.2222222222222222,
              "#7201a8"
             ],
             [
              0.3333333333333333,
              "#9c179e"
             ],
             [
              0.4444444444444444,
              "#bd3786"
             ],
             [
              0.5555555555555556,
              "#d8576b"
             ],
             [
              0.6666666666666666,
              "#ed7953"
             ],
             [
              0.7777777777777778,
              "#fb9f3a"
             ],
             [
              0.8888888888888888,
              "#fdca26"
             ],
             [
              1,
              "#f0f921"
             ]
            ],
            "type": "heatmap"
           }
          ],
          "heatmapgl": [
           {
            "colorbar": {
             "outlinewidth": 0,
             "ticks": ""
            },
            "colorscale": [
             [
              0,
              "#0d0887"
             ],
             [
              0.1111111111111111,
              "#46039f"
             ],
             [
              0.2222222222222222,
              "#7201a8"
             ],
             [
              0.3333333333333333,
              "#9c179e"
             ],
             [
              0.4444444444444444,
              "#bd3786"
             ],
             [
              0.5555555555555556,
              "#d8576b"
             ],
             [
              0.6666666666666666,
              "#ed7953"
             ],
             [
              0.7777777777777778,
              "#fb9f3a"
             ],
             [
              0.8888888888888888,
              "#fdca26"
             ],
             [
              1,
              "#f0f921"
             ]
            ],
            "type": "heatmapgl"
           }
          ],
          "histogram": [
           {
            "marker": {
             "pattern": {
              "fillmode": "overlay",
              "size": 10,
              "solidity": 0.2
             }
            },
            "type": "histogram"
           }
          ],
          "histogram2d": [
           {
            "colorbar": {
             "outlinewidth": 0,
             "ticks": ""
            },
            "colorscale": [
             [
              0,
              "#0d0887"
             ],
             [
              0.1111111111111111,
              "#46039f"
             ],
             [
              0.2222222222222222,
              "#7201a8"
             ],
             [
              0.3333333333333333,
              "#9c179e"
             ],
             [
              0.4444444444444444,
              "#bd3786"
             ],
             [
              0.5555555555555556,
              "#d8576b"
             ],
             [
              0.6666666666666666,
              "#ed7953"
             ],
             [
              0.7777777777777778,
              "#fb9f3a"
             ],
             [
              0.8888888888888888,
              "#fdca26"
             ],
             [
              1,
              "#f0f921"
             ]
            ],
            "type": "histogram2d"
           }
          ],
          "histogram2dcontour": [
           {
            "colorbar": {
             "outlinewidth": 0,
             "ticks": ""
            },
            "colorscale": [
             [
              0,
              "#0d0887"
             ],
             [
              0.1111111111111111,
              "#46039f"
             ],
             [
              0.2222222222222222,
              "#7201a8"
             ],
             [
              0.3333333333333333,
              "#9c179e"
             ],
             [
              0.4444444444444444,
              "#bd3786"
             ],
             [
              0.5555555555555556,
              "#d8576b"
             ],
             [
              0.6666666666666666,
              "#ed7953"
             ],
             [
              0.7777777777777778,
              "#fb9f3a"
             ],
             [
              0.8888888888888888,
              "#fdca26"
             ],
             [
              1,
              "#f0f921"
             ]
            ],
            "type": "histogram2dcontour"
           }
          ],
          "mesh3d": [
           {
            "colorbar": {
             "outlinewidth": 0,
             "ticks": ""
            },
            "type": "mesh3d"
           }
          ],
          "parcoords": [
           {
            "line": {
             "colorbar": {
              "outlinewidth": 0,
              "ticks": ""
             }
            },
            "type": "parcoords"
           }
          ],
          "pie": [
           {
            "automargin": true,
            "type": "pie"
           }
          ],
          "scatter": [
           {
            "fillpattern": {
             "fillmode": "overlay",
             "size": 10,
             "solidity": 0.2
            },
            "type": "scatter"
           }
          ],
          "scatter3d": [
           {
            "line": {
             "colorbar": {
              "outlinewidth": 0,
              "ticks": ""
             }
            },
            "marker": {
             "colorbar": {
              "outlinewidth": 0,
              "ticks": ""
             }
            },
            "type": "scatter3d"
           }
          ],
          "scattercarpet": [
           {
            "marker": {
             "colorbar": {
              "outlinewidth": 0,
              "ticks": ""
             }
            },
            "type": "scattercarpet"
           }
          ],
          "scattergeo": [
           {
            "marker": {
             "colorbar": {
              "outlinewidth": 0,
              "ticks": ""
             }
            },
            "type": "scattergeo"
           }
          ],
          "scattergl": [
           {
            "marker": {
             "colorbar": {
              "outlinewidth": 0,
              "ticks": ""
             }
            },
            "type": "scattergl"
           }
          ],
          "scattermapbox": [
           {
            "marker": {
             "colorbar": {
              "outlinewidth": 0,
              "ticks": ""
             }
            },
            "type": "scattermapbox"
           }
          ],
          "scatterpolar": [
           {
            "marker": {
             "colorbar": {
              "outlinewidth": 0,
              "ticks": ""
             }
            },
            "type": "scatterpolar"
           }
          ],
          "scatterpolargl": [
           {
            "marker": {
             "colorbar": {
              "outlinewidth": 0,
              "ticks": ""
             }
            },
            "type": "scatterpolargl"
           }
          ],
          "scatterternary": [
           {
            "marker": {
             "colorbar": {
              "outlinewidth": 0,
              "ticks": ""
             }
            },
            "type": "scatterternary"
           }
          ],
          "surface": [
           {
            "colorbar": {
             "outlinewidth": 0,
             "ticks": ""
            },
            "colorscale": [
             [
              0,
              "#0d0887"
             ],
             [
              0.1111111111111111,
              "#46039f"
             ],
             [
              0.2222222222222222,
              "#7201a8"
             ],
             [
              0.3333333333333333,
              "#9c179e"
             ],
             [
              0.4444444444444444,
              "#bd3786"
             ],
             [
              0.5555555555555556,
              "#d8576b"
             ],
             [
              0.6666666666666666,
              "#ed7953"
             ],
             [
              0.7777777777777778,
              "#fb9f3a"
             ],
             [
              0.8888888888888888,
              "#fdca26"
             ],
             [
              1,
              "#f0f921"
             ]
            ],
            "type": "surface"
           }
          ],
          "table": [
           {
            "cells": {
             "fill": {
              "color": "#EBF0F8"
             },
             "line": {
              "color": "white"
             }
            },
            "header": {
             "fill": {
              "color": "#C8D4E3"
             },
             "line": {
              "color": "white"
             }
            },
            "type": "table"
           }
          ]
         },
         "layout": {
          "annotationdefaults": {
           "arrowcolor": "#2a3f5f",
           "arrowhead": 0,
           "arrowwidth": 1
          },
          "autotypenumbers": "strict",
          "coloraxis": {
           "colorbar": {
            "outlinewidth": 0,
            "ticks": ""
           }
          },
          "colorscale": {
           "diverging": [
            [
             0,
             "#8e0152"
            ],
            [
             0.1,
             "#c51b7d"
            ],
            [
             0.2,
             "#de77ae"
            ],
            [
             0.3,
             "#f1b6da"
            ],
            [
             0.4,
             "#fde0ef"
            ],
            [
             0.5,
             "#f7f7f7"
            ],
            [
             0.6,
             "#e6f5d0"
            ],
            [
             0.7,
             "#b8e186"
            ],
            [
             0.8,
             "#7fbc41"
            ],
            [
             0.9,
             "#4d9221"
            ],
            [
             1,
             "#276419"
            ]
           ],
           "sequential": [
            [
             0,
             "#0d0887"
            ],
            [
             0.1111111111111111,
             "#46039f"
            ],
            [
             0.2222222222222222,
             "#7201a8"
            ],
            [
             0.3333333333333333,
             "#9c179e"
            ],
            [
             0.4444444444444444,
             "#bd3786"
            ],
            [
             0.5555555555555556,
             "#d8576b"
            ],
            [
             0.6666666666666666,
             "#ed7953"
            ],
            [
             0.7777777777777778,
             "#fb9f3a"
            ],
            [
             0.8888888888888888,
             "#fdca26"
            ],
            [
             1,
             "#f0f921"
            ]
           ],
           "sequentialminus": [
            [
             0,
             "#0d0887"
            ],
            [
             0.1111111111111111,
             "#46039f"
            ],
            [
             0.2222222222222222,
             "#7201a8"
            ],
            [
             0.3333333333333333,
             "#9c179e"
            ],
            [
             0.4444444444444444,
             "#bd3786"
            ],
            [
             0.5555555555555556,
             "#d8576b"
            ],
            [
             0.6666666666666666,
             "#ed7953"
            ],
            [
             0.7777777777777778,
             "#fb9f3a"
            ],
            [
             0.8888888888888888,
             "#fdca26"
            ],
            [
             1,
             "#f0f921"
            ]
           ]
          },
          "colorway": [
           "#636efa",
           "#EF553B",
           "#00cc96",
           "#ab63fa",
           "#FFA15A",
           "#19d3f3",
           "#FF6692",
           "#B6E880",
           "#FF97FF",
           "#FECB52"
          ],
          "font": {
           "color": "#2a3f5f"
          },
          "geo": {
           "bgcolor": "white",
           "lakecolor": "white",
           "landcolor": "#E5ECF6",
           "showlakes": true,
           "showland": true,
           "subunitcolor": "white"
          },
          "hoverlabel": {
           "align": "left"
          },
          "hovermode": "closest",
          "mapbox": {
           "style": "light"
          },
          "paper_bgcolor": "white",
          "plot_bgcolor": "#E5ECF6",
          "polar": {
           "angularaxis": {
            "gridcolor": "white",
            "linecolor": "white",
            "ticks": ""
           },
           "bgcolor": "#E5ECF6",
           "radialaxis": {
            "gridcolor": "white",
            "linecolor": "white",
            "ticks": ""
           }
          },
          "scene": {
           "xaxis": {
            "backgroundcolor": "#E5ECF6",
            "gridcolor": "white",
            "gridwidth": 2,
            "linecolor": "white",
            "showbackground": true,
            "ticks": "",
            "zerolinecolor": "white"
           },
           "yaxis": {
            "backgroundcolor": "#E5ECF6",
            "gridcolor": "white",
            "gridwidth": 2,
            "linecolor": "white",
            "showbackground": true,
            "ticks": "",
            "zerolinecolor": "white"
           },
           "zaxis": {
            "backgroundcolor": "#E5ECF6",
            "gridcolor": "white",
            "gridwidth": 2,
            "linecolor": "white",
            "showbackground": true,
            "ticks": "",
            "zerolinecolor": "white"
           }
          },
          "shapedefaults": {
           "line": {
            "color": "#2a3f5f"
           }
          },
          "ternary": {
           "aaxis": {
            "gridcolor": "white",
            "linecolor": "white",
            "ticks": ""
           },
           "baxis": {
            "gridcolor": "white",
            "linecolor": "white",
            "ticks": ""
           },
           "bgcolor": "#E5ECF6",
           "caxis": {
            "gridcolor": "white",
            "linecolor": "white",
            "ticks": ""
           }
          },
          "title": {
           "x": 0.05
          },
          "xaxis": {
           "automargin": true,
           "gridcolor": "white",
           "linecolor": "white",
           "ticks": "",
           "title": {
            "standoff": 15
           },
           "zerolinecolor": "white",
           "zerolinewidth": 2
          },
          "yaxis": {
           "automargin": true,
           "gridcolor": "white",
           "linecolor": "white",
           "ticks": "",
           "title": {
            "standoff": 15
           },
           "zerolinecolor": "white",
           "zerolinewidth": 2
          }
         }
        },
        "title": {
         "text": "Resultados de Armadura"
        },
        "xaxis": {
         "title": {
          "text": "Coordenadas X (m)"
         }
        },
        "yaxis": {
         "title": {
          "text": "Coordenadas Y (m)"
         }
        }
       }
      }
     },
     "metadata": {},
     "output_type": "display_data"
    },
    {
     "data": {
      "application/vnd.plotly.v1+json": {
       "config": {
        "plotlyServerURL": "https://plot.ly"
       },
       "data": [
        {
         "line": {
          "color": "grey"
         },
         "mode": "lines+markers",
         "name": "Compresión",
         "showlegend": false,
         "type": "scatter",
         "x": [
          0,
          9.804
         ],
         "y": [
          0,
          18
         ]
        },
        {
         "line": {
          "color": "red"
         },
         "mode": "lines+markers",
         "showlegend": false,
         "type": "scatter",
         "x": [
          0,
          9.596322894923276
         ],
         "y": [
          0,
          17.963435156960248
         ]
        },
        {
         "line": {
          "color": "grey"
         },
         "mode": "lines+markers",
         "name": "Compresión",
         "showlegend": false,
         "type": "scatter",
         "x": [
          9.804,
          20
         ],
         "y": [
          18,
          18
         ]
        },
        {
         "line": {
          "color": "red"
         },
         "mode": "lines+markers",
         "showlegend": false,
         "type": "scatter",
         "x": [
          9.596322894923276,
          19.776327572939582
         ],
         "y": [
          17.963435156960248,
          18.01622740130117
         ]
        },
        {
         "line": {
          "color": "grey"
         },
         "mode": "lines+markers",
         "name": "Compresión",
         "showlegend": false,
         "type": "scatter",
         "x": [
          20,
          30.195
         ],
         "y": [
          18,
          18
         ]
        },
        {
         "line": {
          "color": "red"
         },
         "mode": "lines+markers",
         "showlegend": false,
         "type": "scatter",
         "x": [
          19.776327572939582,
          29.868314640415623
         ],
         "y": [
          18.01622740130117,
          18.08973822422879
         ]
        },
        {
         "line": {
          "color": "grey"
         },
         "mode": "lines+markers",
         "name": "Compresión",
         "showlegend": false,
         "type": "scatter",
         "x": [
          30.195,
          40
         ],
         "y": [
          18,
          18
         ]
        },
        {
         "line": {
          "color": "red"
         },
         "mode": "lines+markers",
         "showlegend": false,
         "type": "scatter",
         "x": [
          29.868314640415623,
          39.55651599390118
         ],
         "y": [
          18.08973822422879,
          18
         ]
        },
        {
         "line": {
          "color": "grey"
         },
         "mode": "lines+markers",
         "name": "Compresión",
         "showlegend": false,
         "type": "scatter",
         "x": [
          40,
          50.715
         ],
         "y": [
          18,
          18
         ]
        },
        {
         "line": {
          "color": "red"
         },
         "mode": "lines+markers",
         "showlegend": false,
         "type": "scatter",
         "x": [
          39.55651599390118,
          50.14387728942365
         ],
         "y": [
          18,
          17.232896044791264
         ]
        },
        {
         "line": {
          "color": "grey"
         },
         "mode": "lines+markers",
         "name": "Compresión",
         "showlegend": false,
         "type": "scatter",
         "x": [
          50.715,
          62.939
         ],
         "y": [
          18,
          18
         ]
        },
        {
         "line": {
          "color": "red"
         },
         "mode": "lines+markers",
         "showlegend": false,
         "type": "scatter",
         "x": [
          50.14387728942365,
          62.33181475617278
         ],
         "y": [
          17.232896044791264,
          15.818258513283872
         ]
        },
        {
         "line": {
          "color": "grey"
         },
         "mode": "lines+markers",
         "name": "Tracción",
         "showlegend": false,
         "type": "scatter",
         "x": [
          62.939,
          76.204
         ],
         "y": [
          18,
          18
         ]
        },
        {
         "line": {
          "color": "red"
         },
         "mode": "lines+markers",
         "showlegend": false,
         "type": "scatter",
         "x": [
          62.33181475617278,
          75.76500483854838
         ],
         "y": [
          15.818258513283872,
          14.198876901485411
         ]
        },
        {
         "line": {
          "color": "grey"
         },
         "mode": "lines+markers",
         "name": "Tracción",
         "showlegend": false,
         "type": "scatter",
         "x": [
          76.204,
          90
         ],
         "y": [
          18,
          18
         ]
        },
        {
         "line": {
          "color": "red"
         },
         "mode": "lines+markers",
         "showlegend": false,
         "type": "scatter",
         "x": [
          75.76500483854838,
          90.00007052670767
         ],
         "y": [
          14.198876901485411,
          13.715063363527552
         ]
        },
        {
         "line": {
          "color": "grey"
         },
         "mode": "lines+markers",
         "name": "Tracción",
         "showlegend": false,
         "type": "scatter",
         "x": [
          90,
          103.79
         ],
         "y": [
          18,
          18
         ]
        },
        {
         "line": {
          "color": "red"
         },
         "mode": "lines+markers",
         "showlegend": false,
         "type": "scatter",
         "x": [
          90.00007052670767,
          104.22903798755728
         ],
         "y": [
          13.715063363527552,
          14.198141734144357
         ]
        },
        {
         "line": {
          "color": "grey"
         },
         "mode": "lines+markers",
         "name": "Tracción",
         "showlegend": false,
         "type": "scatter",
         "x": [
          103.79,
          117.06
         ],
         "y": [
          18,
          18
         ]
        },
        {
         "line": {
          "color": "red"
         },
         "mode": "lines+markers",
         "showlegend": false,
         "type": "scatter",
         "x": [
          104.22903798755728,
          117.66727762080137
         ],
         "y": [
          14.198141734144357,
          15.818119920140818
         ]
        },
        {
         "line": {
          "color": "grey"
         },
         "mode": "lines+markers",
         "name": "Compresión",
         "showlegend": false,
         "type": "scatter",
         "x": [
          117.06,
          129.28
         ],
         "y": [
          18,
          18
         ]
        },
        {
         "line": {
          "color": "red"
         },
         "mode": "lines+markers",
         "showlegend": false,
         "type": "scatter",
         "x": [
          117.66727762080137,
          129.8513261586136
         ],
         "y": [
          15.818119920140818,
          17.232126411915058
         ]
        },
        {
         "line": {
          "color": "grey"
         },
         "mode": "lines+markers",
         "name": "Compresión",
         "showlegend": false,
         "type": "scatter",
         "x": [
          129.28,
          140
         ],
         "y": [
          18,
          18
         ]
        },
        {
         "line": {
          "color": "red"
         },
         "mode": "lines+markers",
         "showlegend": false,
         "type": "scatter",
         "x": [
          129.8513261586136,
          140.44359516450606
         ],
         "y": [
          17.232126411915058,
          18
         ]
        },
        {
         "line": {
          "color": "grey"
         },
         "mode": "lines+markers",
         "name": "Compresión",
         "showlegend": false,
         "type": "scatter",
         "x": [
          140,
          149.8
         ],
         "y": [
          18,
          18
         ]
        },
        {
         "line": {
          "color": "red"
         },
         "mode": "lines+markers",
         "showlegend": false,
         "type": "scatter",
         "x": [
          140.44359516450606,
          150.1268261586988
         ],
         "y": [
          18,
          18.089752658324468
         ]
        },
        {
         "line": {
          "color": "grey"
         },
         "mode": "lines+markers",
         "name": "Compresión",
         "showlegend": false,
         "type": "scatter",
         "x": [
          149.8,
          160
         ],
         "y": [
          18,
          18
         ]
        },
        {
         "line": {
          "color": "red"
         },
         "mode": "lines+markers",
         "showlegend": false,
         "type": "scatter",
         "x": [
          150.1268261586988,
          160.2237226507908
         ],
         "y": [
          18.089752658324468,
          18.01619018305727
         ]
        },
        {
         "line": {
          "color": "grey"
         },
         "mode": "lines+markers",
         "name": "Compresión",
         "showlegend": false,
         "type": "scatter",
         "x": [
          160,
          170.19
         ],
         "y": [
          18,
          18
         ]
        },
        {
         "line": {
          "color": "red"
         },
         "mode": "lines+markers",
         "showlegend": false,
         "type": "scatter",
         "x": [
          160.2237226507908,
          170.39758675624194
         ],
         "y": [
          18.01619018305727,
          17.963787931513757
         ]
        },
        {
         "line": {
          "color": "grey"
         },
         "mode": "lines+markers",
         "name": "Compresión",
         "showlegend": false,
         "type": "scatter",
         "x": [
          170.19,
          180
         ],
         "y": [
          18,
          0
         ]
        },
        {
         "line": {
          "color": "red"
         },
         "mode": "lines+markers",
         "showlegend": false,
         "type": "scatter",
         "x": [
          170.39758675624194,
          180
         ],
         "y": [
          17.963787931513757,
          0
         ]
        },
        {
         "line": {
          "color": "grey"
         },
         "mode": "lines+markers",
         "name": "Compresión",
         "showlegend": false,
         "type": "scatter",
         "x": [
          180,
          170.16
         ],
         "y": [
          0,
          5.194
         ]
        },
        {
         "line": {
          "color": "red"
         },
         "mode": "lines+markers",
         "showlegend": false,
         "type": "scatter",
         "x": [
          180,
          170.22627272329
         ],
         "y": [
          0,
          5.194505895004738
         ]
        },
        {
         "line": {
          "color": "grey"
         },
         "mode": "lines+markers",
         "name": "Compresión",
         "showlegend": false,
         "type": "scatter",
         "x": [
          170.16,
          160
         ],
         "y": [
          5.194,
          6.948
         ]
        },
        {
         "line": {
          "color": "red"
         },
         "mode": "lines+markers",
         "showlegend": false,
         "type": "scatter",
         "x": [
          170.22627272329,
          160.06900401707642
         ],
         "y": [
          5.194505895004738,
          6.962352994328142
         ]
        },
        {
         "line": {
          "color": "grey"
         },
         "mode": "lines+markers",
         "name": "Compresión",
         "showlegend": false,
         "type": "scatter",
         "x": [
          160,
          149.8
         ],
         "y": [
          6.948,
          5.194
         ]
        },
        {
         "line": {
          "color": "red"
         },
         "mode": "lines+markers",
         "showlegend": false,
         "type": "scatter",
         "x": [
          160.06900401707642,
          149.8798011511858
         ],
         "y": [
          6.962352994328142,
          5.241249391123822
         ]
        },
        {
         "line": {
          "color": "grey"
         },
         "mode": "lines+markers",
         "name": "Tracción",
         "showlegend": false,
         "type": "scatter",
         "x": [
          149.8,
          140
         ],
         "y": [
          5.194,
          0
         ]
        },
        {
         "line": {
          "color": "red"
         },
         "mode": "lines+markers",
         "showlegend": false,
         "type": "scatter",
         "x": [
          149.8798011511858,
          140
         ],
         "y": [
          5.241249391123822,
          0
         ]
        },
        {
         "line": {
          "color": "grey"
         },
         "mode": "lines+markers",
         "name": "Tracción",
         "showlegend": false,
         "type": "scatter",
         "x": [
          140,
          129.28
         ],
         "y": [
          0,
          4.939
         ]
        },
        {
         "line": {
          "color": "red"
         },
         "mode": "lines+markers",
         "showlegend": false,
         "type": "scatter",
         "x": [
          140,
          129.0452437162347
         ],
         "y": [
          0,
          4.104947400919362
         ]
        },
        {
         "line": {
          "color": "grey"
         },
         "mode": "lines+markers",
         "name": "Tracción",
         "showlegend": false,
         "type": "scatter",
         "x": [
          129.28,
          117.06
         ],
         "y": [
          4.939,
          8.61
         ]
        },
        {
         "line": {
          "color": "red"
         },
         "mode": "lines+markers",
         "showlegend": false,
         "type": "scatter",
         "x": [
          129.0452437162347,
          116.86449211144438
         ],
         "y": [
          4.104947400919362,
          6.365251802961456
         ]
        },
        {
         "line": {
          "color": "grey"
         },
         "mode": "lines+markers",
         "name": "Tracción",
         "showlegend": false,
         "type": "scatter",
         "x": [
          117.06,
          103.79
         ],
         "y": [
          8.61,
          10.87
         ]
        },
        {
         "line": {
          "color": "red"
         },
         "mode": "lines+markers",
         "showlegend": false,
         "type": "scatter",
         "x": [
          116.86449211144438,
          103.74641689498497
         ],
         "y": [
          6.365251802961456,
          7.042804128779194
         ]
        },
        {
         "line": {
          "color": "grey"
         },
         "mode": "lines+markers",
         "name": "Compresión",
         "showlegend": false,
         "type": "scatter",
         "x": [
          103.79,
          90
         ],
         "y": [
          10.87,
          11.633
         ]
        },
        {
         "line": {
          "color": "red"
         },
         "mode": "lines+markers",
         "showlegend": false,
         "type": "scatter",
         "x": [
          103.74641689498497,
          90.00010933502533
         ],
         "y": [
          7.042804128779194,
          7.3471321233990485
         ]
        },
        {
         "line": {
          "color": "grey"
         },
         "mode": "lines+markers",
         "name": "Compresión",
         "showlegend": false,
         "type": "scatter",
         "x": [
          90,
          76.204
         ],
         "y": [
          11.633,
          10.87
         ]
        },
        {
         "line": {
          "color": "red"
         },
         "mode": "lines+markers",
         "showlegend": false,
         "type": "scatter",
         "x": [
          90.00010933502533,
          76.2478394460538
         ],
         "y": [
          7.3471321233990485,
          7.043542074297031
         ]
        },
        {
         "line": {
          "color": "grey"
         },
         "mode": "lines+markers",
         "name": "Tracción",
         "showlegend": false,
         "type": "scatter",
         "x": [
          76.204,
          62.939
         ],
         "y": [
          10.87,
          8.61
         ]
        },
        {
         "line": {
          "color": "red"
         },
         "mode": "lines+markers",
         "showlegend": false,
         "type": "scatter",
         "x": [
          76.2478394460538,
          63.13470421967332
         ],
         "y": [
          7.043542074297031,
          6.365349722881035
         ]
        },
        {
         "line": {
          "color": "grey"
         },
         "mode": "lines+markers",
         "name": "Tracción",
         "showlegend": false,
         "type": "scatter",
         "x": [
          62.939,
          50.715
         ],
         "y": [
          8.61,
          4.939
         ]
        },
        {
         "line": {
          "color": "red"
         },
         "mode": "lines+markers",
         "showlegend": false,
         "type": "scatter",
         "x": [
          63.13470421967332,
          50.94998162938499
         ],
         "y": [
          6.365349722881035,
          4.105870432663071
         ]
        },
        {
         "line": {
          "color": "grey"
         },
         "mode": "lines+markers",
         "name": "Tracción",
         "showlegend": false,
         "type": "scatter",
         "x": [
          50.715,
          40
         ],
         "y": [
          4.939,
          0
         ]
        },
        {
         "line": {
          "color": "red"
         },
         "mode": "lines+markers",
         "showlegend": false,
         "type": "scatter",
         "x": [
          50.94998162938499,
          40
         ],
         "y": [
          4.105870432663071,
          0
         ]
        },
        {
         "line": {
          "color": "grey"
         },
         "mode": "lines+markers",
         "name": "Tracción",
         "showlegend": false,
         "type": "scatter",
         "x": [
          40,
          30.195
         ],
         "y": [
          0,
          5.194
         ]
        },
        {
         "line": {
          "color": "red"
         },
         "mode": "lines+markers",
         "showlegend": false,
         "type": "scatter",
         "x": [
          40,
          30.115215640888714
         ],
         "y": [
          0,
          5.241236088839674
         ]
        },
        {
         "line": {
          "color": "grey"
         },
         "mode": "lines+markers",
         "name": "Compresión",
         "showlegend": false,
         "type": "scatter",
         "x": [
          30.195,
          20
         ],
         "y": [
          5.194,
          6.948
         ]
        },
        {
         "line": {
          "color": "red"
         },
         "mode": "lines+markers",
         "showlegend": false,
         "type": "scatter",
         "x": [
          30.115215640888714,
          19.93096835020044
         ],
         "y": [
          5.241236088839674,
          6.962405028720073
         ]
        },
        {
         "line": {
          "color": "grey"
         },
         "mode": "lines+markers",
         "name": "Compresión",
         "showlegend": false,
         "type": "scatter",
         "x": [
          20,
          9.804
         ],
         "y": [
          6.948,
          5.194
         ]
        },
        {
         "line": {
          "color": "red"
         },
         "mode": "lines+markers",
         "showlegend": false,
         "type": "scatter",
         "x": [
          19.93096835020044,
          9.737650040140673
         ],
         "y": [
          6.962405028720073,
          5.194319823371873
         ]
        },
        {
         "line": {
          "color": "grey"
         },
         "mode": "lines+markers",
         "name": "Compresión",
         "showlegend": false,
         "type": "scatter",
         "x": [
          9.804,
          0
         ],
         "y": [
          5.194,
          0
         ]
        },
        {
         "line": {
          "color": "red"
         },
         "mode": "lines+markers",
         "showlegend": false,
         "type": "scatter",
         "x": [
          9.737650040140673,
          0
         ],
         "y": [
          5.194319823371873,
          0
         ]
        },
        {
         "line": {
          "color": "grey"
         },
         "mode": "lines+markers",
         "name": "Tracción",
         "showlegend": false,
         "type": "scatter",
         "x": [
          9.804,
          9.804
         ],
         "y": [
          18,
          5.194
         ]
        },
        {
         "line": {
          "color": "red"
         },
         "mode": "lines+markers",
         "showlegend": false,
         "type": "scatter",
         "x": [
          9.596322894923276,
          9.737650040140673
         ],
         "y": [
          17.963435156960248,
          5.194319823371873
         ]
        },
        {
         "line": {
          "color": "grey"
         },
         "mode": "lines+markers",
         "name": "Compresión",
         "showlegend": false,
         "type": "scatter",
         "x": [
          20,
          20
         ],
         "y": [
          18,
          6.948
         ]
        },
        {
         "line": {
          "color": "red"
         },
         "mode": "lines+markers",
         "showlegend": false,
         "type": "scatter",
         "x": [
          19.776327572939582,
          19.93096835020044
         ],
         "y": [
          18.01622740130117,
          6.962405028720073
         ]
        },
        {
         "line": {
          "color": "grey"
         },
         "mode": "lines+markers",
         "name": "Compresión",
         "showlegend": false,
         "type": "scatter",
         "x": [
          30.195,
          30.195
         ],
         "y": [
          18,
          5.194
         ]
        },
        {
         "line": {
          "color": "red"
         },
         "mode": "lines+markers",
         "showlegend": false,
         "type": "scatter",
         "x": [
          29.868314640415623,
          30.115215640888714
         ],
         "y": [
          18.08973822422879,
          5.241236088839674
         ]
        },
        {
         "line": {
          "color": "grey"
         },
         "mode": "lines+markers",
         "name": "No esforzada",
         "showlegend": false,
         "type": "scatter",
         "x": [
          40,
          40
         ],
         "y": [
          18,
          0
         ]
        },
        {
         "line": {
          "color": "red"
         },
         "mode": "lines+markers",
         "showlegend": false,
         "type": "scatter",
         "x": [
          39.55651599390118,
          40
         ],
         "y": [
          18,
          0
         ]
        },
        {
         "line": {
          "color": "grey"
         },
         "mode": "lines+markers",
         "name": "Compresión",
         "showlegend": false,
         "type": "scatter",
         "x": [
          50.715,
          50.715
         ],
         "y": [
          18,
          4.939
         ]
        },
        {
         "line": {
          "color": "red"
         },
         "mode": "lines+markers",
         "showlegend": false,
         "type": "scatter",
         "x": [
          50.14387728942365,
          50.94998162938499
         ],
         "y": [
          17.232896044791264,
          4.105870432663071
         ]
        },
        {
         "line": {
          "color": "grey"
         },
         "mode": "lines+markers",
         "name": "Compresión",
         "showlegend": false,
         "type": "scatter",
         "x": [
          62.939,
          62.939
         ],
         "y": [
          18,
          8.61
         ]
        },
        {
         "line": {
          "color": "red"
         },
         "mode": "lines+markers",
         "showlegend": false,
         "type": "scatter",
         "x": [
          62.33181475617278,
          63.13470421967332
         ],
         "y": [
          15.818258513283872,
          6.365349722881035
         ]
        },
        {
         "line": {
          "color": "grey"
         },
         "mode": "lines+markers",
         "name": "Compresión",
         "showlegend": false,
         "type": "scatter",
         "x": [
          76.204,
          76.204
         ],
         "y": [
          18,
          10.87
         ]
        },
        {
         "line": {
          "color": "red"
         },
         "mode": "lines+markers",
         "showlegend": false,
         "type": "scatter",
         "x": [
          75.76500483854838,
          76.2478394460538
         ],
         "y": [
          14.198876901485411,
          7.043542074297031
         ]
        },
        {
         "line": {
          "color": "grey"
         },
         "mode": "lines+markers",
         "name": "Compresión",
         "showlegend": false,
         "type": "scatter",
         "x": [
          90,
          90
         ],
         "y": [
          18,
          11.633
         ]
        },
        {
         "line": {
          "color": "red"
         },
         "mode": "lines+markers",
         "showlegend": false,
         "type": "scatter",
         "x": [
          90.00007052670767,
          90.00010933502533
         ],
         "y": [
          13.715063363527552,
          7.3471321233990485
         ]
        },
        {
         "line": {
          "color": "grey"
         },
         "mode": "lines+markers",
         "name": "Compresión",
         "showlegend": false,
         "type": "scatter",
         "x": [
          103.79,
          103.79
         ],
         "y": [
          18,
          10.87
         ]
        },
        {
         "line": {
          "color": "red"
         },
         "mode": "lines+markers",
         "showlegend": false,
         "type": "scatter",
         "x": [
          104.22903798755728,
          103.74641689498497
         ],
         "y": [
          14.198141734144357,
          7.042804128779194
         ]
        },
        {
         "line": {
          "color": "grey"
         },
         "mode": "lines+markers",
         "name": "Compresión",
         "showlegend": false,
         "type": "scatter",
         "x": [
          117.06,
          117.06
         ],
         "y": [
          18,
          8.61
         ]
        },
        {
         "line": {
          "color": "red"
         },
         "mode": "lines+markers",
         "showlegend": false,
         "type": "scatter",
         "x": [
          117.66727762080137,
          116.86449211144438
         ],
         "y": [
          15.818119920140818,
          6.365251802961456
         ]
        },
        {
         "line": {
          "color": "grey"
         },
         "mode": "lines+markers",
         "name": "Compresión",
         "showlegend": false,
         "type": "scatter",
         "x": [
          129.28,
          129.28
         ],
         "y": [
          18,
          4.939
         ]
        },
        {
         "line": {
          "color": "red"
         },
         "mode": "lines+markers",
         "showlegend": false,
         "type": "scatter",
         "x": [
          129.8513261586136,
          129.0452437162347
         ],
         "y": [
          17.232126411915058,
          4.104947400919362
         ]
        },
        {
         "line": {
          "color": "grey"
         },
         "mode": "lines+markers",
         "name": "No esforzada",
         "showlegend": false,
         "type": "scatter",
         "x": [
          140,
          140
         ],
         "y": [
          18,
          0
         ]
        },
        {
         "line": {
          "color": "red"
         },
         "mode": "lines+markers",
         "showlegend": false,
         "type": "scatter",
         "x": [
          140.44359516450606,
          140
         ],
         "y": [
          18,
          0
         ]
        },
        {
         "line": {
          "color": "grey"
         },
         "mode": "lines+markers",
         "name": "Compresión",
         "showlegend": false,
         "type": "scatter",
         "x": [
          149.8,
          149.8
         ],
         "y": [
          18,
          5.194
         ]
        },
        {
         "line": {
          "color": "red"
         },
         "mode": "lines+markers",
         "showlegend": false,
         "type": "scatter",
         "x": [
          150.1268261586988,
          149.8798011511858
         ],
         "y": [
          18.089752658324468,
          5.241249391123822
         ]
        },
        {
         "line": {
          "color": "grey"
         },
         "mode": "lines+markers",
         "name": "Compresión",
         "showlegend": false,
         "type": "scatter",
         "x": [
          160,
          160
         ],
         "y": [
          18,
          6.948
         ]
        },
        {
         "line": {
          "color": "red"
         },
         "mode": "lines+markers",
         "showlegend": false,
         "type": "scatter",
         "x": [
          160.2237226507908,
          160.06900401707642
         ],
         "y": [
          18.01619018305727,
          6.962352994328142
         ]
        },
        {
         "line": {
          "color": "grey"
         },
         "mode": "lines+markers",
         "name": "Tracción",
         "showlegend": false,
         "type": "scatter",
         "x": [
          170.19,
          170.16
         ],
         "y": [
          18,
          5.194
         ]
        },
        {
         "line": {
          "color": "red"
         },
         "mode": "lines+markers",
         "showlegend": false,
         "type": "scatter",
         "x": [
          170.39758675624194,
          170.22627272329
         ],
         "y": [
          17.963787931513757,
          5.194505895004738
         ]
        },
        {
         "line": {
          "color": "grey"
         },
         "mode": "lines+markers",
         "name": "Compresión",
         "showlegend": false,
         "type": "scatter",
         "x": [
          20,
          9.804
         ],
         "y": [
          18,
          5.194
         ]
        },
        {
         "line": {
          "color": "red"
         },
         "mode": "lines+markers",
         "showlegend": false,
         "type": "scatter",
         "x": [
          19.776327572939582,
          9.737650040140673
         ],
         "y": [
          18.01622740130117,
          5.194319823371873
         ]
        },
        {
         "line": {
          "color": "grey"
         },
         "mode": "lines+markers",
         "name": "Tracción",
         "showlegend": false,
         "type": "scatter",
         "x": [
          20,
          30.195
         ],
         "y": [
          18,
          5.194
         ]
        },
        {
         "line": {
          "color": "red"
         },
         "mode": "lines+markers",
         "showlegend": false,
         "type": "scatter",
         "x": [
          19.776327572939582,
          30.115215640888714
         ],
         "y": [
          18.01622740130117,
          5.241236088839674
         ]
        },
        {
         "line": {
          "color": "grey"
         },
         "mode": "lines+markers",
         "name": "Tracción",
         "showlegend": false,
         "type": "scatter",
         "x": [
          30.195,
          40
         ],
         "y": [
          18,
          0
         ]
        },
        {
         "line": {
          "color": "red"
         },
         "mode": "lines+markers",
         "showlegend": false,
         "type": "scatter",
         "x": [
          29.868314640415623,
          40
         ],
         "y": [
          18.08973822422879,
          0
         ]
        },
        {
         "line": {
          "color": "grey"
         },
         "mode": "lines+markers",
         "name": "Tracción",
         "showlegend": false,
         "type": "scatter",
         "x": [
          50.715,
          40
         ],
         "y": [
          18,
          0
         ]
        },
        {
         "line": {
          "color": "red"
         },
         "mode": "lines+markers",
         "showlegend": false,
         "type": "scatter",
         "x": [
          50.14387728942365,
          40
         ],
         "y": [
          17.232896044791264,
          0
         ]
        },
        {
         "line": {
          "color": "grey"
         },
         "mode": "lines+markers",
         "name": "Tracción",
         "showlegend": false,
         "type": "scatter",
         "x": [
          62.939,
          50.715
         ],
         "y": [
          18,
          4.939
         ]
        },
        {
         "line": {
          "color": "red"
         },
         "mode": "lines+markers",
         "showlegend": false,
         "type": "scatter",
         "x": [
          62.33181475617278,
          50.94998162938499
         ],
         "y": [
          15.818258513283872,
          4.105870432663071
         ]
        },
        {
         "line": {
          "color": "grey"
         },
         "mode": "lines+markers",
         "name": "Tracción",
         "showlegend": false,
         "type": "scatter",
         "x": [
          76.204,
          62.939
         ],
         "y": [
          18,
          8.61
         ]
        },
        {
         "line": {
          "color": "red"
         },
         "mode": "lines+markers",
         "showlegend": false,
         "type": "scatter",
         "x": [
          75.76500483854838,
          63.13470421967332
         ],
         "y": [
          14.198876901485411,
          6.365349722881035
         ]
        },
        {
         "line": {
          "color": "grey"
         },
         "mode": "lines+markers",
         "name": "Tracción",
         "showlegend": false,
         "type": "scatter",
         "x": [
          90,
          76.204
         ],
         "y": [
          18,
          10.87
         ]
        },
        {
         "line": {
          "color": "red"
         },
         "mode": "lines+markers",
         "showlegend": false,
         "type": "scatter",
         "x": [
          90.00007052670767,
          76.2478394460538
         ],
         "y": [
          13.715063363527552,
          7.043542074297031
         ]
        },
        {
         "line": {
          "color": "grey"
         },
         "mode": "lines+markers",
         "name": "Tracción",
         "showlegend": false,
         "type": "scatter",
         "x": [
          90,
          103.79
         ],
         "y": [
          18,
          10.87
         ]
        },
        {
         "line": {
          "color": "red"
         },
         "mode": "lines+markers",
         "showlegend": false,
         "type": "scatter",
         "x": [
          90.00007052670767,
          103.74641689498497
         ],
         "y": [
          13.715063363527552,
          7.042804128779194
         ]
        },
        {
         "line": {
          "color": "grey"
         },
         "mode": "lines+markers",
         "name": "Tracción",
         "showlegend": false,
         "type": "scatter",
         "x": [
          103.79,
          117.06
         ],
         "y": [
          18,
          8.61
         ]
        },
        {
         "line": {
          "color": "red"
         },
         "mode": "lines+markers",
         "showlegend": false,
         "type": "scatter",
         "x": [
          104.22903798755728,
          116.86449211144438
         ],
         "y": [
          14.198141734144357,
          6.365251802961456
         ]
        },
        {
         "line": {
          "color": "grey"
         },
         "mode": "lines+markers",
         "name": "Tracción",
         "showlegend": false,
         "type": "scatter",
         "x": [
          117.06,
          129.28
         ],
         "y": [
          18,
          4.939
         ]
        },
        {
         "line": {
          "color": "red"
         },
         "mode": "lines+markers",
         "showlegend": false,
         "type": "scatter",
         "x": [
          117.66727762080137,
          129.0452437162347
         ],
         "y": [
          15.818119920140818,
          4.104947400919362
         ]
        },
        {
         "line": {
          "color": "grey"
         },
         "mode": "lines+markers",
         "name": "Tracción",
         "showlegend": false,
         "type": "scatter",
         "x": [
          129.28,
          140
         ],
         "y": [
          18,
          0
         ]
        },
        {
         "line": {
          "color": "red"
         },
         "mode": "lines+markers",
         "showlegend": false,
         "type": "scatter",
         "x": [
          129.8513261586136,
          140
         ],
         "y": [
          17.232126411915058,
          0
         ]
        },
        {
         "line": {
          "color": "grey"
         },
         "mode": "lines+markers",
         "name": "Tracción",
         "showlegend": false,
         "type": "scatter",
         "x": [
          149.8,
          140
         ],
         "y": [
          18,
          0
         ]
        },
        {
         "line": {
          "color": "red"
         },
         "mode": "lines+markers",
         "showlegend": false,
         "type": "scatter",
         "x": [
          150.1268261586988,
          140
         ],
         "y": [
          18.089752658324468,
          0
         ]
        },
        {
         "line": {
          "color": "grey"
         },
         "mode": "lines+markers",
         "name": "Tracción",
         "showlegend": false,
         "type": "scatter",
         "x": [
          160,
          149.8
         ],
         "y": [
          18,
          5.194
         ]
        },
        {
         "line": {
          "color": "red"
         },
         "mode": "lines+markers",
         "showlegend": false,
         "type": "scatter",
         "x": [
          160.2237226507908,
          149.8798011511858
         ],
         "y": [
          18.01619018305727,
          5.241249391123822
         ]
        },
        {
         "line": {
          "color": "grey"
         },
         "mode": "lines+markers",
         "name": "Compresión",
         "showlegend": false,
         "type": "scatter",
         "x": [
          160,
          170.16
         ],
         "y": [
          18,
          5.194
         ]
        },
        {
         "line": {
          "color": "red"
         },
         "mode": "lines+markers",
         "showlegend": false,
         "type": "scatter",
         "x": [
          160.2237226507908,
          170.22627272329
         ],
         "y": [
          18.01619018305727,
          5.194505895004738
         ]
        }
       ],
       "layout": {
        "template": {
         "data": {
          "bar": [
           {
            "error_x": {
             "color": "#2a3f5f"
            },
            "error_y": {
             "color": "#2a3f5f"
            },
            "marker": {
             "line": {
              "color": "#E5ECF6",
              "width": 0.5
             },
             "pattern": {
              "fillmode": "overlay",
              "size": 10,
              "solidity": 0.2
             }
            },
            "type": "bar"
           }
          ],
          "barpolar": [
           {
            "marker": {
             "line": {
              "color": "#E5ECF6",
              "width": 0.5
             },
             "pattern": {
              "fillmode": "overlay",
              "size": 10,
              "solidity": 0.2
             }
            },
            "type": "barpolar"
           }
          ],
          "carpet": [
           {
            "aaxis": {
             "endlinecolor": "#2a3f5f",
             "gridcolor": "white",
             "linecolor": "white",
             "minorgridcolor": "white",
             "startlinecolor": "#2a3f5f"
            },
            "baxis": {
             "endlinecolor": "#2a3f5f",
             "gridcolor": "white",
             "linecolor": "white",
             "minorgridcolor": "white",
             "startlinecolor": "#2a3f5f"
            },
            "type": "carpet"
           }
          ],
          "choropleth": [
           {
            "colorbar": {
             "outlinewidth": 0,
             "ticks": ""
            },
            "type": "choropleth"
           }
          ],
          "contour": [
           {
            "colorbar": {
             "outlinewidth": 0,
             "ticks": ""
            },
            "colorscale": [
             [
              0,
              "#0d0887"
             ],
             [
              0.1111111111111111,
              "#46039f"
             ],
             [
              0.2222222222222222,
              "#7201a8"
             ],
             [
              0.3333333333333333,
              "#9c179e"
             ],
             [
              0.4444444444444444,
              "#bd3786"
             ],
             [
              0.5555555555555556,
              "#d8576b"
             ],
             [
              0.6666666666666666,
              "#ed7953"
             ],
             [
              0.7777777777777778,
              "#fb9f3a"
             ],
             [
              0.8888888888888888,
              "#fdca26"
             ],
             [
              1,
              "#f0f921"
             ]
            ],
            "type": "contour"
           }
          ],
          "contourcarpet": [
           {
            "colorbar": {
             "outlinewidth": 0,
             "ticks": ""
            },
            "type": "contourcarpet"
           }
          ],
          "heatmap": [
           {
            "colorbar": {
             "outlinewidth": 0,
             "ticks": ""
            },
            "colorscale": [
             [
              0,
              "#0d0887"
             ],
             [
              0.1111111111111111,
              "#46039f"
             ],
             [
              0.2222222222222222,
              "#7201a8"
             ],
             [
              0.3333333333333333,
              "#9c179e"
             ],
             [
              0.4444444444444444,
              "#bd3786"
             ],
             [
              0.5555555555555556,
              "#d8576b"
             ],
             [
              0.6666666666666666,
              "#ed7953"
             ],
             [
              0.7777777777777778,
              "#fb9f3a"
             ],
             [
              0.8888888888888888,
              "#fdca26"
             ],
             [
              1,
              "#f0f921"
             ]
            ],
            "type": "heatmap"
           }
          ],
          "heatmapgl": [
           {
            "colorbar": {
             "outlinewidth": 0,
             "ticks": ""
            },
            "colorscale": [
             [
              0,
              "#0d0887"
             ],
             [
              0.1111111111111111,
              "#46039f"
             ],
             [
              0.2222222222222222,
              "#7201a8"
             ],
             [
              0.3333333333333333,
              "#9c179e"
             ],
             [
              0.4444444444444444,
              "#bd3786"
             ],
             [
              0.5555555555555556,
              "#d8576b"
             ],
             [
              0.6666666666666666,
              "#ed7953"
             ],
             [
              0.7777777777777778,
              "#fb9f3a"
             ],
             [
              0.8888888888888888,
              "#fdca26"
             ],
             [
              1,
              "#f0f921"
             ]
            ],
            "type": "heatmapgl"
           }
          ],
          "histogram": [
           {
            "marker": {
             "pattern": {
              "fillmode": "overlay",
              "size": 10,
              "solidity": 0.2
             }
            },
            "type": "histogram"
           }
          ],
          "histogram2d": [
           {
            "colorbar": {
             "outlinewidth": 0,
             "ticks": ""
            },
            "colorscale": [
             [
              0,
              "#0d0887"
             ],
             [
              0.1111111111111111,
              "#46039f"
             ],
             [
              0.2222222222222222,
              "#7201a8"
             ],
             [
              0.3333333333333333,
              "#9c179e"
             ],
             [
              0.4444444444444444,
              "#bd3786"
             ],
             [
              0.5555555555555556,
              "#d8576b"
             ],
             [
              0.6666666666666666,
              "#ed7953"
             ],
             [
              0.7777777777777778,
              "#fb9f3a"
             ],
             [
              0.8888888888888888,
              "#fdca26"
             ],
             [
              1,
              "#f0f921"
             ]
            ],
            "type": "histogram2d"
           }
          ],
          "histogram2dcontour": [
           {
            "colorbar": {
             "outlinewidth": 0,
             "ticks": ""
            },
            "colorscale": [
             [
              0,
              "#0d0887"
             ],
             [
              0.1111111111111111,
              "#46039f"
             ],
             [
              0.2222222222222222,
              "#7201a8"
             ],
             [
              0.3333333333333333,
              "#9c179e"
             ],
             [
              0.4444444444444444,
              "#bd3786"
             ],
             [
              0.5555555555555556,
              "#d8576b"
             ],
             [
              0.6666666666666666,
              "#ed7953"
             ],
             [
              0.7777777777777778,
              "#fb9f3a"
             ],
             [
              0.8888888888888888,
              "#fdca26"
             ],
             [
              1,
              "#f0f921"
             ]
            ],
            "type": "histogram2dcontour"
           }
          ],
          "mesh3d": [
           {
            "colorbar": {
             "outlinewidth": 0,
             "ticks": ""
            },
            "type": "mesh3d"
           }
          ],
          "parcoords": [
           {
            "line": {
             "colorbar": {
              "outlinewidth": 0,
              "ticks": ""
             }
            },
            "type": "parcoords"
           }
          ],
          "pie": [
           {
            "automargin": true,
            "type": "pie"
           }
          ],
          "scatter": [
           {
            "fillpattern": {
             "fillmode": "overlay",
             "size": 10,
             "solidity": 0.2
            },
            "type": "scatter"
           }
          ],
          "scatter3d": [
           {
            "line": {
             "colorbar": {
              "outlinewidth": 0,
              "ticks": ""
             }
            },
            "marker": {
             "colorbar": {
              "outlinewidth": 0,
              "ticks": ""
             }
            },
            "type": "scatter3d"
           }
          ],
          "scattercarpet": [
           {
            "marker": {
             "colorbar": {
              "outlinewidth": 0,
              "ticks": ""
             }
            },
            "type": "scattercarpet"
           }
          ],
          "scattergeo": [
           {
            "marker": {
             "colorbar": {
              "outlinewidth": 0,
              "ticks": ""
             }
            },
            "type": "scattergeo"
           }
          ],
          "scattergl": [
           {
            "marker": {
             "colorbar": {
              "outlinewidth": 0,
              "ticks": ""
             }
            },
            "type": "scattergl"
           }
          ],
          "scattermapbox": [
           {
            "marker": {
             "colorbar": {
              "outlinewidth": 0,
              "ticks": ""
             }
            },
            "type": "scattermapbox"
           }
          ],
          "scatterpolar": [
           {
            "marker": {
             "colorbar": {
              "outlinewidth": 0,
              "ticks": ""
             }
            },
            "type": "scatterpolar"
           }
          ],
          "scatterpolargl": [
           {
            "marker": {
             "colorbar": {
              "outlinewidth": 0,
              "ticks": ""
             }
            },
            "type": "scatterpolargl"
           }
          ],
          "scatterternary": [
           {
            "marker": {
             "colorbar": {
              "outlinewidth": 0,
              "ticks": ""
             }
            },
            "type": "scatterternary"
           }
          ],
          "surface": [
           {
            "colorbar": {
             "outlinewidth": 0,
             "ticks": ""
            },
            "colorscale": [
             [
              0,
              "#0d0887"
             ],
             [
              0.1111111111111111,
              "#46039f"
             ],
             [
              0.2222222222222222,
              "#7201a8"
             ],
             [
              0.3333333333333333,
              "#9c179e"
             ],
             [
              0.4444444444444444,
              "#bd3786"
             ],
             [
              0.5555555555555556,
              "#d8576b"
             ],
             [
              0.6666666666666666,
              "#ed7953"
             ],
             [
              0.7777777777777778,
              "#fb9f3a"
             ],
             [
              0.8888888888888888,
              "#fdca26"
             ],
             [
              1,
              "#f0f921"
             ]
            ],
            "type": "surface"
           }
          ],
          "table": [
           {
            "cells": {
             "fill": {
              "color": "#EBF0F8"
             },
             "line": {
              "color": "white"
             }
            },
            "header": {
             "fill": {
              "color": "#C8D4E3"
             },
             "line": {
              "color": "white"
             }
            },
            "type": "table"
           }
          ]
         },
         "layout": {
          "annotationdefaults": {
           "arrowcolor": "#2a3f5f",
           "arrowhead": 0,
           "arrowwidth": 1
          },
          "autotypenumbers": "strict",
          "coloraxis": {
           "colorbar": {
            "outlinewidth": 0,
            "ticks": ""
           }
          },
          "colorscale": {
           "diverging": [
            [
             0,
             "#8e0152"
            ],
            [
             0.1,
             "#c51b7d"
            ],
            [
             0.2,
             "#de77ae"
            ],
            [
             0.3,
             "#f1b6da"
            ],
            [
             0.4,
             "#fde0ef"
            ],
            [
             0.5,
             "#f7f7f7"
            ],
            [
             0.6,
             "#e6f5d0"
            ],
            [
             0.7,
             "#b8e186"
            ],
            [
             0.8,
             "#7fbc41"
            ],
            [
             0.9,
             "#4d9221"
            ],
            [
             1,
             "#276419"
            ]
           ],
           "sequential": [
            [
             0,
             "#0d0887"
            ],
            [
             0.1111111111111111,
             "#46039f"
            ],
            [
             0.2222222222222222,
             "#7201a8"
            ],
            [
             0.3333333333333333,
             "#9c179e"
            ],
            [
             0.4444444444444444,
             "#bd3786"
            ],
            [
             0.5555555555555556,
             "#d8576b"
            ],
            [
             0.6666666666666666,
             "#ed7953"
            ],
            [
             0.7777777777777778,
             "#fb9f3a"
            ],
            [
             0.8888888888888888,
             "#fdca26"
            ],
            [
             1,
             "#f0f921"
            ]
           ],
           "sequentialminus": [
            [
             0,
             "#0d0887"
            ],
            [
             0.1111111111111111,
             "#46039f"
            ],
            [
             0.2222222222222222,
             "#7201a8"
            ],
            [
             0.3333333333333333,
             "#9c179e"
            ],
            [
             0.4444444444444444,
             "#bd3786"
            ],
            [
             0.5555555555555556,
             "#d8576b"
            ],
            [
             0.6666666666666666,
             "#ed7953"
            ],
            [
             0.7777777777777778,
             "#fb9f3a"
            ],
            [
             0.8888888888888888,
             "#fdca26"
            ],
            [
             1,
             "#f0f921"
            ]
           ]
          },
          "colorway": [
           "#636efa",
           "#EF553B",
           "#00cc96",
           "#ab63fa",
           "#FFA15A",
           "#19d3f3",
           "#FF6692",
           "#B6E880",
           "#FF97FF",
           "#FECB52"
          ],
          "font": {
           "color": "#2a3f5f"
          },
          "geo": {
           "bgcolor": "white",
           "lakecolor": "white",
           "landcolor": "#E5ECF6",
           "showlakes": true,
           "showland": true,
           "subunitcolor": "white"
          },
          "hoverlabel": {
           "align": "left"
          },
          "hovermode": "closest",
          "mapbox": {
           "style": "light"
          },
          "paper_bgcolor": "white",
          "plot_bgcolor": "#E5ECF6",
          "polar": {
           "angularaxis": {
            "gridcolor": "white",
            "linecolor": "white",
            "ticks": ""
           },
           "bgcolor": "#E5ECF6",
           "radialaxis": {
            "gridcolor": "white",
            "linecolor": "white",
            "ticks": ""
           }
          },
          "scene": {
           "xaxis": {
            "backgroundcolor": "#E5ECF6",
            "gridcolor": "white",
            "gridwidth": 2,
            "linecolor": "white",
            "showbackground": true,
            "ticks": "",
            "zerolinecolor": "white"
           },
           "yaxis": {
            "backgroundcolor": "#E5ECF6",
            "gridcolor": "white",
            "gridwidth": 2,
            "linecolor": "white",
            "showbackground": true,
            "ticks": "",
            "zerolinecolor": "white"
           },
           "zaxis": {
            "backgroundcolor": "#E5ECF6",
            "gridcolor": "white",
            "gridwidth": 2,
            "linecolor": "white",
            "showbackground": true,
            "ticks": "",
            "zerolinecolor": "white"
           }
          },
          "shapedefaults": {
           "line": {
            "color": "#2a3f5f"
           }
          },
          "ternary": {
           "aaxis": {
            "gridcolor": "white",
            "linecolor": "white",
            "ticks": ""
           },
           "baxis": {
            "gridcolor": "white",
            "linecolor": "white",
            "ticks": ""
           },
           "bgcolor": "#E5ECF6",
           "caxis": {
            "gridcolor": "white",
            "linecolor": "white",
            "ticks": ""
           }
          },
          "title": {
           "x": 0.05
          },
          "xaxis": {
           "automargin": true,
           "gridcolor": "white",
           "linecolor": "white",
           "ticks": "",
           "title": {
            "standoff": 15
           },
           "zerolinecolor": "white",
           "zerolinewidth": 2
          },
          "yaxis": {
           "automargin": true,
           "gridcolor": "white",
           "linecolor": "white",
           "ticks": "",
           "title": {
            "standoff": 15
           },
           "zerolinecolor": "white",
           "zerolinewidth": 2
          }
         }
        },
        "title": {
         "text": "Deformación de la Armadura"
        },
        "xaxis": {
         "title": {
          "text": "Coordenadas X (m)"
         }
        },
        "yaxis": {
         "title": {
          "text": "Coordenadas Y (m)"
         }
        }
       }
      }
     },
     "metadata": {},
     "output_type": "display_data"
    }
   ],
   "source": [
    "#Se crea un data frame con el que se plotearán los gráficos\n",
    "\n",
    "# df=pd.DataFrame({'barra':\n",
    "\n",
    "# })\n",
    "\n",
    "\n",
    "###### PLOTEO DE COMPRESIÓN O TRACCIÓN\n",
    "\n",
    "fig = go.Figure()\n",
    "\n",
    "for i in range(len(barras)):\n",
    "\n",
    "    if CalcBarra[i]['Estado']=='Compresión':\n",
    "        barraColor = 'blue'\n",
    "    elif CalcBarra[i]['Estado']=='Tracción':\n",
    "        barraColor = 'red'\n",
    "    elif CalcBarra[i]['Estado']== 'No esforzada':\n",
    "        barraColor = 'green'\n",
    "    fig.add_trace(go.Scatter(x=CalcBarra[i]['Coordenadas X'], y=CalcBarra[i]['Coordenadas Y'],\n",
    "                             mode='lines+markers',\n",
    "                             name=CalcBarra[i]['Estado'],\n",
    "                             line = dict(color=barraColor)\n",
    "\n",
    "    ))\n",
    "\n",
    "fig.update_layout(title='Resultados de Armadura',\n",
    "                   xaxis_title='Coordenadas X (m)',\n",
    "                   yaxis_title='Coordenadas Y (m)')\n",
    "\n",
    "fig.show()\n",
    "\n",
    "\n",
    "###### PLOTEO DE DEFORMACIONES\n",
    "\n",
    "factor = 50 #Es el factor de exageración con el que se quiere deformar la estructura\n",
    "\n",
    "fig = go.Figure()\n",
    "\n",
    "for i in range(len(barras)):\n",
    "\n",
    "    if CalcBarra[i]['Estado']=='Compresión':\n",
    "        barraColor = 'blue'\n",
    "    elif CalcBarra[i]['Estado']=='Tracción':\n",
    "        barraColor = 'red'\n",
    "    elif CalcBarra[i]['Estado']== 'No esforzada':\n",
    "        barraColor = 'green'\n",
    "    \n",
    "    fig.add_trace(go.Scatter(x=CalcBarra[i]['Coordenadas X'], y=CalcBarra[i]['Coordenadas Y'],\n",
    "                             mode='lines+markers',\n",
    "                             name=CalcBarra[i]['Estado'],\n",
    "                             line = dict(color='grey'),\n",
    "                             showlegend = False\n",
    "                             ))\n",
    "\n",
    "    fig.add_trace(go.Scatter(x=[CalcBarra[i]['Coordenadas X'][0]+delta[CalcBarra[i]['Puntero'][0,0]-1,0]*factor,CalcBarra[i]['Coordenadas X'][1]+delta[CalcBarra[i]['Puntero'][0,2]-1,0]*factor], \n",
    "                             y=[CalcBarra[i]['Coordenadas Y'][0]+delta[CalcBarra[i]['Puntero'][0,1]-1,0]*factor,CalcBarra[i]['Coordenadas Y'][1]+delta[CalcBarra[i]['Puntero'][0,3]-1,0]*factor],\n",
    "                             mode='lines+markers',\n",
    "                             #name=CalcBarra[i]['Estado'],\n",
    "                             line = dict(color='red'),\n",
    "                             showlegend=False\n",
    "\n",
    "    ))\n",
    "\n",
    "fig.update_layout(title='Deformación de la Armadura',\n",
    "                   xaxis_title='Coordenadas X (m)',\n",
    "                   yaxis_title='Coordenadas Y (m)')\n",
    "\n",
    "fig.show()\n",
    "\n",
    "#PLOTEO DE BARRAS CON FUERZAS INTERNAS\n",
    "\n",
    "\n",
    "\n"
   ]
  },
  {
   "cell_type": "markdown",
   "metadata": {},
   "source": [
    "### 3.3 Resultados de fuerzas internas"
   ]
  },
  {
   "cell_type": "code",
   "execution_count": 184,
   "metadata": {},
   "outputs": [
    {
     "name": "stdout",
     "output_type": "stream",
     "text": [
      "Fuerzas internas en barras\n",
      "Barra 1:\n",
      "-65.6 kN\n",
      "Barra 2:\n",
      "-31.38 kN\n",
      "Barra 3:\n",
      "-202.09 kN\n",
      "Barra 4:\n",
      "-238.24 kN\n",
      "Barra 5:\n",
      "-238.24 kN\n",
      "Barra 6:\n",
      "-59.0 kN\n",
      "Barra 7:\n",
      "253.58 kN\n",
      "Barra 8:\n",
      "636.51 kN\n",
      "Barra 9:\n",
      "636.65 kN\n",
      "Barra 10:\n",
      "253.56 kN\n",
      "Barra 11:\n",
      "-58.84 kN\n",
      "Barra 12:\n",
      "-238.3 kN\n",
      "Barra 13:\n",
      "-238.3 kN\n",
      "Barra 14:\n",
      "-202.16 kN\n",
      "Barra 15:\n",
      "-31.67 kN\n",
      "Barra 16:\n",
      "-65.9 kN\n",
      "Barra 17:\n",
      "-105.77 kN\n",
      "Barra 18:\n",
      "-9.79 kN\n",
      "Barra 19:\n",
      "-9.79 kN\n",
      "Barra 20:\n",
      "87.25 kN\n",
      "Barra 21:\n",
      "952.68 kN\n",
      "Barra 22:\n",
      "577.26 kN\n",
      "Barra 23:\n",
      "172.22 kN\n",
      "Barra 24:\n",
      "-26.48 kN\n",
      "Barra 25:\n",
      "-26.48 kN\n",
      "Barra 26:\n",
      "172.36 kN\n",
      "Barra 27:\n",
      "577.22 kN\n",
      "Barra 28:\n",
      "952.93 kN\n",
      "Barra 29:\n",
      "87.23 kN\n",
      "Barra 30:\n",
      "-9.73 kN\n",
      "Barra 31:\n",
      "-9.73 kN\n",
      "Barra 32:\n",
      "-105.96 kN\n",
      "Barra 33:\n",
      "57.61 kN\n",
      "Barra 34:\n",
      "-3.3 kN\n",
      "Barra 35:\n",
      "-66.38 kN\n",
      "Barra 36:\n",
      "0.0 kN\n",
      "Barra 37:\n",
      "-101.1 kN\n",
      "Barra 38:\n",
      "-133.99 kN\n",
      "Barra 39:\n",
      "-71.07 kN\n",
      "Barra 40:\n",
      "-2.93 kN\n",
      "Barra 41:\n",
      "-71.07 kN\n",
      "Barra 42:\n",
      "-133.9 kN\n",
      "Barra 43:\n",
      "-101.34 kN\n",
      "Barra 44:\n",
      "-0.0 kN\n",
      "Barra 45:\n",
      "-66.38 kN\n",
      "Barra 46:\n",
      "-3.32 kN\n",
      "Barra 47:\n",
      "57.86 kN\n",
      "Barra 48:\n",
      "-134.93 kN\n",
      "Barra 49:\n",
      "139.14 kN\n",
      "Barra 50:\n",
      "75.59 kN\n",
      "Barra 51:\n",
      "350.41 kN\n",
      "Barra 52:\n",
      "457.45 kN\n",
      "Barra 53:\n",
      "469.16 kN\n",
      "Barra 54:\n",
      "221.02 kN\n",
      "Barra 55:\n",
      "220.89 kN\n",
      "Barra 56:\n",
      "469.29 kN\n",
      "Barra 57:\n",
      "457.26 kN\n",
      "Barra 58:\n",
      "350.73 kN\n",
      "Barra 59:\n",
      "75.58 kN\n",
      "Barra 60:\n",
      "139.22 kN\n",
      "Barra 61:\n",
      "-134.76 kN\n"
     ]
    }
   ],
   "source": [
    "print(\"Fuerzas internas en barras\")\n",
    "for i in range(len(barras)):\n",
    "    print(\"Barra \"+str(i+1)+\":\")\n",
    "    print(str(round(CalcBarra[i]['Fuerza interna']/1000,2)) + \" kN\")\n"
   ]
  },
  {
   "cell_type": "markdown",
   "metadata": {},
   "source": []
  },
  {
   "cell_type": "markdown",
   "metadata": {},
   "source": []
  }
 ],
 "metadata": {
  "interpreter": {
   "hash": "11ffc019a02cc0e21e59860b66c88ea81995ce9237607e8ab2c087a287ee4867"
  },
  "kernelspec": {
   "display_name": "Python 3.8.8 ('base')",
   "language": "python",
   "name": "python3"
  },
  "language_info": {
   "codemirror_mode": {
    "name": "ipython",
    "version": 3
   },
   "file_extension": ".py",
   "mimetype": "text/x-python",
   "name": "python",
   "nbconvert_exporter": "python",
   "pygments_lexer": "ipython3",
   "version": "3.8.8"
  },
  "orig_nbformat": 4
 },
 "nbformat": 4,
 "nbformat_minor": 2
}
